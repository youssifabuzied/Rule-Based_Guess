{
 "cells": [
  {
   "cell_type": "code",
   "execution_count": 1,
   "metadata": {},
   "outputs": [
    {
     "name": "stderr",
     "output_type": "stream",
     "text": [
      "/opt/homebrew/lib/python3.11/site-packages/tqdm/auto.py:21: TqdmWarning: IProgress not found. Please update jupyter and ipywidgets. See https://ipywidgets.readthedocs.io/en/stable/user_install.html\n",
      "  from .autonotebook import tqdm as notebook_tqdm\n",
      "2025-05-12 19:38:50,288 - src.domain.models.QwenModel - INFO - Initializing QwenModel with ahmedheakl/ex19_qwen2.5-1.5b-1m-stack-16kcw on device mps\n"
     ]
    },
    {
     "name": "stdout",
     "output_type": "stream",
     "text": [
      "Loading Qwen model: ahmedheakl/ex19_qwen2.5-1.5b-1m-stack-16kcw\n"
     ]
    },
    {
     "name": "stderr",
     "output_type": "stream",
     "text": [
      "2025-05-12 19:38:52,966 - QwenModel - INFO - Initialized QwenModel on device: mps:0\n",
      "2025-05-12 19:38:52,967 - src.domain.models.QwenModel - INFO - Model initialization completed in 2.68 seconds\n"
     ]
    },
    {
     "name": "stdout",
     "output_type": "stream",
     "text": [
      "Source JSONL: data/processed/X86/BringUp_x86.jsonl\n",
      "Target JSONL: data/processed/ARM64/BringUp_arm.jsonl\n",
      "Loading file: data/processed/X86/BringUp_x86.jsonl\n",
      "Loaded 31 entries from data/processed/X86/BringUp_x86.jsonl\n",
      "Loading file: data/processed/ARM64/BringUp_arm.jsonl\n",
      "Loaded 31 entries from data/processed/ARM64/BringUp_arm.jsonl\n"
     ]
    }
   ],
   "source": [
    "from src.guess.guess import ConfigType, Guess, Config\n",
    "from src.domain.datasets.UnixCommandDataset import UnixCommandDataset  # Register dataset\n",
    "from src.domain.datasets.ProjectEulerDataset import ProjectEulerDataset\n",
    "from src.domain.datasets.BringUpDataset import BringUpDataset\n",
    "from src.domain.datasets.HumanEvalDataset import HumanEvalDataset\n",
    "\n",
    "prediction = None\n",
    "\n",
    "config = Config(ConfigType.QWEN_X862ARM64.get_path())\n",
    "guess = Guess(config=config)\n",
    "\n",
    "# results = guess.guess()"
   ]
  },
  {
   "cell_type": "code",
   "execution_count": 2,
   "metadata": {},
   "outputs": [],
   "source": [
    "from src.helpers.torch_unpicker import CPU_Unpickler\n",
    "\n",
    "with open(\"predl.pkl\", \"rb\") as f:\n",
    "    result = CPU_Unpickler(f).load()\n",
    "    \n"
   ]
  },
  {
   "cell_type": "code",
   "execution_count": 3,
   "metadata": {},
   "outputs": [
    {
     "name": "stdout",
     "output_type": "stream",
     "text": [
      "dict_keys(['fy-shuffle.s', 'bloom-filter.s', 'strange.s', 'topo-sort.s', 'weekday.s', 'knights-tour.s', 'murmur-hash.s', 'spirograph.s', 'gcd-list.s', 'skeleton.s', 'simple-grep.s', 'pi-calc.s', 'indirect-test.s', 'flood-fill.s', 'priority-queue.s', 'bubble-sort.s', 'ackermann.s', 'checkers.s', 'spelt2num.s', 'totient.s', 'cipher.s', 'mersenne.s', 'heapsort.s', 'sieve.s', 'hanoi.s', 'natlog.s', 'rle-compress.s', 'quine.s', 'mandelbrot.s'])\n"
     ]
    }
   ],
   "source": [
    "print(result.keys())"
   ]
  },
  {
   "cell_type": "code",
   "execution_count": 4,
   "metadata": {},
   "outputs": [],
   "source": [
    "from src.sketch.sketch import Sketch\n",
    "\n",
    "sketch = Sketch(config, guess.model)"
   ]
  },
  {
   "cell_type": "code",
   "execution_count": 5,
   "metadata": {},
   "outputs": [],
   "source": [
    "from src.sketch.fixes import fix_duplicate_sections, fix_missing_sections\n",
    "from src.helpers.model import PredictionResult\n",
    "import torch"
   ]
  },
  {
   "cell_type": "code",
   "execution_count": 6,
   "metadata": {},
   "outputs": [
    {
     "name": "stdout",
     "output_type": "stream",
     "text": [
      "3705\n",
      "3709\n",
      "7418\n",
      "4019\n",
      "4019\n",
      "8038\n",
      "978\n",
      "978\n",
      "1956\n",
      "4743\n",
      "4743\n",
      "9486\n",
      "3098\n",
      "3098\n",
      "6196\n",
      "4814\n",
      "4814\n",
      "9628\n",
      "3677\n",
      "3677\n",
      "7354\n",
      "2964\n",
      "2964\n",
      "5928\n",
      "2060\n",
      "2098\n",
      "4196\n",
      "526\n",
      "529\n",
      "1058\n",
      "4140\n",
      "4140\n",
      "8280\n",
      "2330\n",
      "2330\n",
      "4660\n",
      "1899\n",
      "1899\n",
      "3798\n",
      "3722\n",
      "3732\n",
      "7464\n",
      "3681\n",
      "3681\n",
      "7362\n",
      "3329\n",
      "3329\n",
      "6658\n",
      "3369\n",
      "3373\n",
      "6746\n",
      "3085\n",
      "3085\n",
      "6170\n",
      "Missing section: LBB0_7\n",
      "4087\n",
      "4095\n",
      "8190\n",
      "Missing section: LBB0_222\n",
      "4970\n",
      "4970\n",
      "9940\n"
     ]
    },
    {
     "name": "stderr",
     "output_type": "stream",
     "text": [
      "2025-05-12 19:38:55,616 - src.domain.models.QwenModel - INFO - Starting inference with temperature=0.7, max_length=512\n",
      "2025-05-12 19:38:55,616 - src.domain.models.QwenModel - INFO - Input shape: torch.Size([1, 102])\n",
      "`torch.nn.functional.scaled_dot_product_attention` does not support `output_attentions=True`. Falling back to eager attention. This warning can be removed using the argument `attn_implementation=\"eager\"` when loading the model.\n"
     ]
    },
    {
     "ename": "AttributeError",
     "evalue": "'list' object has no attribute 'device'",
     "output_type": "error",
     "traceback": [
      "\u001b[31m---------------------------------------------------------------------------\u001b[39m",
      "\u001b[31mAttributeError\u001b[39m                            Traceback (most recent call last)",
      "\u001b[36mCell\u001b[39m\u001b[36m \u001b[39m\u001b[32mIn[6]\u001b[39m\u001b[32m, line 15\u001b[39m\n\u001b[32m     12\u001b[39m \u001b[38;5;28mprint\u001b[39m(\u001b[38;5;28mlen\u001b[39m(pred.confidence))\n\u001b[32m     14\u001b[39m fixed_pred = fix_duplicate_sections(sketch, fixed_pred)\n\u001b[32m---> \u001b[39m\u001b[32m15\u001b[39m fixed_pred = \u001b[43mfix_missing_sections\u001b[49m\u001b[43m(\u001b[49m\u001b[43msketch\u001b[49m\u001b[43m,\u001b[49m\u001b[43m \u001b[49m\u001b[43mfixed_pred\u001b[49m\u001b[43m)\u001b[49m\n",
      "\u001b[36mFile \u001b[39m\u001b[32m~/projects/guess_sketch/src/sketch/fixes/sections.py:140\u001b[39m, in \u001b[36mfix_missing_sections\u001b[39m\u001b[34m(sketch, prediction)\u001b[39m\n\u001b[32m    130\u001b[39m fixed_pred.source = new_source\n\u001b[32m    132\u001b[39m shifted_alignments = torch.tensor(\n\u001b[32m    133\u001b[39m     [\n\u001b[32m    134\u001b[39m         [src_idx + source_offset \u001b[38;5;28;01mfor\u001b[39;00m src_idx \u001b[38;5;129;01min\u001b[39;00m src_idxes]\n\u001b[32m    135\u001b[39m         \u001b[38;5;28;01mfor\u001b[39;00m src_idxes \u001b[38;5;129;01min\u001b[39;00m new_section.alignments\n\u001b[32m    136\u001b[39m     ]\n\u001b[32m    137\u001b[39m )\n\u001b[32m    138\u001b[39m fixed_pred.alignments = torch.cat([\n\u001b[32m    139\u001b[39m     fixed_pred.alignments,\n\u001b[32m--> \u001b[39m\u001b[32m140\u001b[39m     shifted_alignments.to(\u001b[43mfixed_pred\u001b[49m\u001b[43m.\u001b[49m\u001b[43malignments\u001b[49m\u001b[43m.\u001b[49m\u001b[43mdevice\u001b[49m),\n\u001b[32m    141\u001b[39m ])\n\u001b[32m    142\u001b[39m fixed_pred.confidence.extend(\n\u001b[32m    143\u001b[39m     new_section.confidence\n\u001b[32m    144\u001b[39m )\n\u001b[32m    146\u001b[39m \u001b[38;5;66;03m# Do not generate same section twice\u001b[39;00m\n",
      "\u001b[31mAttributeError\u001b[39m: 'list' object has no attribute 'device'"
     ]
    }
   ],
   "source": [
    "for id, pred in result.items():\n",
    "    pred_len = len(pred.pred)\n",
    "    fixed_pred = PredictionResult(\n",
    "        instance_id=id,\n",
    "        source=torch.tensor([pred.source], dtype=torch.int64),\n",
    "        pred=torch.tensor([pred.pred], dtype=torch.int64),\n",
    "        confidence=pred.confidence[:pred_len],\n",
    "        alignments=pred.alignments[:pred_len],\n",
    "    )\n",
    "\n",
    "    fixed_pred = fix_duplicate_sections(sketch, fixed_pred)\n",
    "    fixed_pred = fix_missing_sections(sketch, fixed_pred)"
   ]
  }
 ],
 "metadata": {
  "kernelspec": {
   "display_name": "Python 3",
   "language": "python",
   "name": "python3"
  },
  "language_info": {
   "codemirror_mode": {
    "name": "ipython",
    "version": 3
   },
   "file_extension": ".py",
   "mimetype": "text/x-python",
   "name": "python",
   "nbconvert_exporter": "python",
   "pygments_lexer": "ipython3",
   "version": "3.11.12"
  }
 },
 "nbformat": 4,
 "nbformat_minor": 2
}
