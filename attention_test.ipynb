{
 "cells": [
  {
   "cell_type": "code",
   "execution_count": 1,
   "metadata": {},
   "outputs": [
    {
     "name": "stderr",
     "output_type": "stream",
     "text": [
      "/opt/homebrew/lib/python3.11/site-packages/tqdm/auto.py:21: TqdmWarning: IProgress not found. Please update jupyter and ipywidgets. See https://ipywidgets.readthedocs.io/en/stable/user_install.html\n",
      "  from .autonotebook import tqdm as notebook_tqdm\n",
      "2025-04-22 01:23:37,324 - src.domain.models.QwenModel - INFO - Initializing QwenModel with ahmedheakl/asm2asm_1.5b_armv8_o0 on device mps\n"
     ]
    },
    {
     "name": "stdout",
     "output_type": "stream",
     "text": [
      "Loading Qwen model: ahmedheakl/asm2asm_1.5b_armv8_o0\n"
     ]
    },
    {
     "name": "stderr",
     "output_type": "stream",
     "text": [
      "2025-04-22 01:23:40,641 - QwenModel - INFO - Initialized QwenModel on device: mps:0\n",
      "2025-04-22 01:23:40,642 - src.domain.models.QwenModel - INFO - Model initialization completed in 3.32 seconds\n"
     ]
    },
    {
     "name": "stdout",
     "output_type": "stream",
     "text": [
      "Source JSONL: data/processed/X86/UnixCommands_x86.jsonl\n",
      "Target JSONL: data/processed/ARM64/UnixCommands_arm.jsonl\n",
      "Loading file: data/processed/X86/UnixCommands_x86.jsonl\n",
      "Loaded 11 entries from data/processed/X86/UnixCommands_x86.jsonl\n",
      "Loading file: data/processed/ARM64/UnixCommands_arm.jsonl\n",
      "Loaded 11 entries from data/processed/ARM64/UnixCommands_arm.jsonl\n"
     ]
    }
   ],
   "source": [
    "from src.guess.guess import ConfigType, Guess, Config\n",
    "from src.domain.datasets.UnixCommandDataset import UnixCommandDataset  # Register dataset\n",
    "from src.domain.datasets.ProjectEulerDataset import ProjectEulerDataset\n",
    "\n",
    "prediction = None\n",
    "\n",
    "config = Config(ConfigType.QWEN_X862ARM64.get_path())\n",
    "guess = Guess(config=config)"
   ]
  },
  {
   "cell_type": "code",
   "execution_count": 2,
   "metadata": {},
   "outputs": [
    {
     "name": "stderr",
     "output_type": "stream",
     "text": [
      "2025-04-22 01:23:40,647 - src.helpers.dataset - INFO - Loaded 11 instances\n",
      "2025-04-22 01:23:40,648 - src.helpers.data_loader - INFO - Loaded 11 samples from dataset\n"
     ]
    },
    {
     "name": "stdout",
     "output_type": "stream",
     "text": [
      "Source entries: 11\n",
      "Target entries: 11\n",
      "Creating instance 0 with source key x86 and target key arm\n",
      "Source entry keys: dict_keys(['source', 'x86', 'x86_output', 'x86_verbose'])\n",
      "Target entry keys: dict_keys(['source', 'arm', 'arm_output', 'arm_verbose'])\n",
      "Creating instance 1 with source key x86 and target key arm\n",
      "Source entry keys: dict_keys(['source', 'x86', 'x86_output', 'x86_verbose'])\n",
      "Target entry keys: dict_keys(['source', 'arm', 'arm_output', 'arm_verbose'])\n",
      "Creating instance 2 with source key x86 and target key arm\n",
      "Source entry keys: dict_keys(['source', 'x86', 'x86_output', 'x86_verbose'])\n",
      "Target entry keys: dict_keys(['source', 'arm', 'arm_output', 'arm_verbose'])\n",
      "Creating instance 3 with source key x86 and target key arm\n",
      "Source entry keys: dict_keys(['source', 'x86', 'x86_output', 'x86_verbose'])\n",
      "Target entry keys: dict_keys(['source', 'arm', 'arm_output', 'arm_verbose'])\n",
      "Creating instance 4 with source key x86 and target key arm\n",
      "Source entry keys: dict_keys(['source', 'x86', 'x86_output', 'x86_verbose'])\n",
      "Target entry keys: dict_keys(['source', 'arm', 'arm_output', 'arm_verbose'])\n",
      "Creating instance 5 with source key x86 and target key arm\n",
      "Source entry keys: dict_keys(['source', 'x86', 'x86_output', 'x86_verbose'])\n",
      "Target entry keys: dict_keys(['source', 'arm', 'arm_output', 'arm_verbose'])\n",
      "Creating instance 6 with source key x86 and target key arm\n",
      "Source entry keys: dict_keys(['source', 'x86', 'x86_output', 'x86_verbose'])\n",
      "Target entry keys: dict_keys(['source', 'arm', 'arm_output', 'arm_verbose'])\n",
      "Creating instance 7 with source key x86 and target key arm\n",
      "Source entry keys: dict_keys(['source', 'x86', 'x86_output', 'x86_verbose'])\n",
      "Target entry keys: dict_keys(['source', 'arm', 'arm_output', 'arm_verbose'])\n",
      "Creating instance 8 with source key x86 and target key arm\n",
      "Source entry keys: dict_keys(['source', 'x86', 'x86_output', 'x86_verbose'])\n",
      "Target entry keys: dict_keys(['source', 'arm', 'arm_output', 'arm_verbose'])\n",
      "Creating instance 9 with source key x86 and target key arm\n",
      "Source entry keys: dict_keys(['source', 'x86', 'x86_output', 'x86_verbose'])\n",
      "Target entry keys: dict_keys(['source', 'arm', 'arm_output', 'arm_verbose'])\n",
      "Creating instance 10 with source key x86 and target key arm\n",
      "Source entry keys: dict_keys(['source', 'x86', 'x86_output', 'x86_verbose'])\n",
      "Target entry keys: dict_keys(['source', 'arm', 'arm_output', 'arm_verbose'])\n",
      "Created 11 instances\n",
      "DatasetInstance(instance_id='UnixCommands/cat', source_lang=<AssemblyLanguage.X86: 'x86'>, target_lang=<AssemblyLanguage.ARM64: 'arm64'>, source='\\t.file\\t\"cat.c\"\\n\\t.text\\n\\t.globl\\tmain\\n\\t.type\\tmain, @function\\nmain:\\n.LFB6:\\n\\t.cfi_startproc\\n\\tendbr64\\n\\tpushq\\t%rbp\\n\\t.cfi_def_cfa_offset 16\\n\\t.cfi_offset 6, -16\\n\\tmovq\\t%rsp, %rbp\\n\\t.cfi_def_cfa_register 6\\n\\tsubq\\t$144, %rsp\\n\\tmovl\\t%edi, -132(%rbp)\\n\\tmovq\\t%rsi, -144(%rbp)\\n\\tmovq\\t%fs:40, %rax\\n\\tmovq\\t%rax, -8(%rbp)\\n\\txorl\\t%eax, %eax\\n\\tmovq\\t-144(%rbp), %rax\\n\\taddq\\t$8, %rax\\n\\tmovq\\t(%rax), %rax\\n\\tmovl\\t$0, %esi\\n\\tmovq\\t%rax, %rdi\\n\\tmovl\\t$0, %eax\\n\\tcall\\topen@PLT\\n\\tmovl\\t%eax, -120(%rbp)\\n\\tjmp\\t.L2\\n.L3:\\n\\tmovl\\t-116(%rbp), %eax\\n\\tmovslq\\t%eax, %rdx\\n\\tleaq\\t-112(%rbp), %rax\\n\\tmovq\\t%rax, %rsi\\n\\tmovl\\t$1, %edi\\n\\tcall\\twrite@PLT\\n.L2:\\n\\tleaq\\t-112(%rbp), %rcx\\n\\tmovl\\t-120(%rbp), %eax\\n\\tmovl\\t$99, %edx\\n\\tmovq\\t%rcx, %rsi\\n\\tmovl\\t%eax, %edi\\n\\tcall\\tread@PLT\\n\\tmovl\\t%eax, -116(%rbp)\\n\\tcmpl\\t$0, -116(%rbp)\\n\\tjne\\t.L3\\n\\tmovl\\t$10, %edi\\n\\tcall\\tputchar@PLT\\n\\tmovl\\t-120(%rbp), %eax\\n\\tmovl\\t%eax, %edi\\n\\tcall\\tclose@PLT\\n\\tmovl\\t$0, %eax\\n\\tmovq\\t-8(%rbp), %rdx\\n\\tsubq\\t%fs:40, %rdx\\n\\tje\\t.L5\\n\\tcall\\t__stack_chk_fail@PLT\\n.L5:\\n\\tleave\\n\\t.cfi_def_cfa 7, 8\\n\\tret\\n\\t.cfi_endproc\\n.LFE6:\\n\\t.size\\tmain, .-main\\n\\t.ident\\t\"GCC: (Ubuntu 11.4.0-1ubuntu1~22.04) 11.4.0\"\\n\\t.section\\t.note.GNU-stack,\"\",@progbits\\n\\t.section\\t.note.gnu.property,\"a\"\\n\\t.align 8\\n\\t.long\\t1f - 0f\\n\\t.long\\t4f - 1f\\n\\t.long\\t5\\n0:\\n\\t.string\\t\"GNU\"\\n1:\\n\\t.align 8\\n\\t.long\\t0xc0000002\\n\\t.long\\t3f - 2f\\n2:\\n\\t.long\\t0x3\\n3:\\n\\t.align 8\\n4:\\n', target='\\t.arch armv8-a\\n\\t.file\\t\"cat.c\"\\n\\t.text\\n\\t.align\\t2\\n\\t.global\\tmain\\n\\t.type\\tmain, %function\\nmain:\\n.LFB6:\\n\\t.cfi_startproc\\n\\tstp\\tx29, x30, [sp, -160]!\\n\\t.cfi_def_cfa_offset 160\\n\\t.cfi_offset 29, -160\\n\\t.cfi_offset 30, -152\\n\\tmov\\tx29, sp\\n\\tstr\\tw0, [sp, 28]\\n\\tstr\\tx1, [sp, 16]\\n\\tadrp\\tx0, :got:__stack_chk_guard\\n\\tldr\\tx0, [x0, #:got_lo12:__stack_chk_guard]\\n\\tldr\\tx1, [x0]\\n\\tstr\\tx1, [sp, 152]\\n\\tmov\\tx1, 0\\n\\tldr\\tx0, [sp, 16]\\n\\tadd\\tx0, x0, 8\\n\\tldr\\tx0, [x0]\\n\\tmov\\tw1, 0\\n\\tbl\\topen\\n\\tstr\\tw0, [sp, 40]\\n\\tb\\t.L2\\n.L3:\\n\\tldrsw\\tx1, [sp, 44]\\n\\tadd\\tx0, sp, 48\\n\\tmov\\tx2, x1\\n\\tmov\\tx1, x0\\n\\tmov\\tw0, 1\\n\\tbl\\twrite\\n.L2:\\n\\tadd\\tx0, sp, 48\\n\\tmov\\tx2, 99\\n\\tmov\\tx1, x0\\n\\tldr\\tw0, [sp, 40]\\n\\tbl\\tread\\n\\tstr\\tw0, [sp, 44]\\n\\tldr\\tw0, [sp, 44]\\n\\tcmp\\tw0, 0\\n\\tbne\\t.L3\\n\\tmov\\tw0, 10\\n\\tbl\\tputchar\\n\\tldr\\tw0, [sp, 40]\\n\\tbl\\tclose\\n\\tmov\\tw0, 0\\n\\tmov\\tw1, w0\\n\\tadrp\\tx0, :got:__stack_chk_guard\\n\\tldr\\tx0, [x0, #:got_lo12:__stack_chk_guard]\\n\\tldr\\tx3, [sp, 152]\\n\\tldr\\tx2, [x0]\\n\\tsubs\\tx3, x3, x2\\n\\tmov\\tx2, 0\\n\\tbeq\\t.L5\\n\\tbl\\t__stack_chk_fail\\n.L5:\\n\\tmov\\tw0, w1\\n\\tldp\\tx29, x30, [sp], 160\\n\\t.cfi_restore 30\\n\\t.cfi_restore 29\\n\\t.cfi_def_cfa_offset 0\\n\\tret\\n\\t.cfi_endproc\\n.LFE6:\\n\\t.size\\tmain, .-main\\n\\t.ident\\t\"GCC: (Ubuntu 11.4.0-1ubuntu1~22.04) 11.4.0\"\\n\\t.section\\t.note.GNU-stack,\"\",@progbits\\n', metadata={'source_file': 'cat', 'c_source': '', 'source_output': '', 'target_output': ''})\n"
     ]
    }
   ],
   "source": [
    "test_instance = guess.data_loader.iter().__next__()\n",
    "print(test_instance)\n"
   ]
  },
  {
   "cell_type": "code",
   "execution_count": null,
   "metadata": {},
   "outputs": [
    {
     "name": "stderr",
     "output_type": "stream",
     "text": [
      "2025-04-22 01:23:40,657 - src.domain.models.QwenModel - INFO - Prompt preparation completed in 0.01 seconds\n",
      "2025-04-22 01:23:40,661 - src.domain.models.QwenModel - INFO - Tokenization completed in 0.00 seconds\n",
      "2025-04-22 01:23:40,662 - src.domain.models.QwenModel - INFO - Starting inference with temperature=0.7, max_length=4096\n",
      "2025-04-22 01:23:40,662 - src.domain.models.QwenModel - INFO - Input shape: torch.Size([1, 750])\n",
      "`torch.nn.functional.scaled_dot_product_attention` does not support `output_attentions=True`. Falling back to eager attention. This warning can be removed using the argument `attn_implementation=\"eager\"` when loading the model.\n"
     ]
    }
   ],
   "source": [
    "test_pred = guess.model.predict(test_instance, guess.inference_cfg)"
   ]
  },
  {
   "cell_type": "code",
   "execution_count": null,
   "metadata": {},
   "outputs": [],
   "source": [
    "from src.sketch.sketch import Sketch\n",
    "\n",
    "sketch = Sketch(config, guess.model)"
   ]
  },
  {
   "cell_type": "code",
   "execution_count": null,
   "metadata": {},
   "outputs": [],
   "source": [
    "import pandas as pd\n",
    "from IPython.display import HTML, display\n",
    "\n",
    "def html_escape(text):\n",
    "    # Convert special characters to HTML-safe versions\n",
    "    return (text.replace(\"&\", \"&amp;\")\n",
    "                .replace(\"<\", \"&lt;\")\n",
    "                .replace(\">\", \"&gt;\")\n",
    "                .replace(\"\\n\", \"<br>\")\n",
    "                .replace(\"\\t\", \"&nbsp;&nbsp;&nbsp;&nbsp;\"))  # 4 spaces for a tab\n",
    "\n",
    "def display_blocks(blocks, pred):\n",
    "    data = []\n",
    "\n",
    "    for block in blocks:\n",
    "        source_text = sketch.model.tokenizer.decode(\n",
    "            pred.source[0][block.source_start:block.source_end]\n",
    "        )\n",
    "        pred_text = sketch.model.tokenizer.decode(\n",
    "            pred.pred[0][block.pred_start:block.pred_end]\n",
    "        )\n",
    "        data.append({\n",
    "            'SOURCE': html_escape(source_text),\n",
    "            'PRED': html_escape(pred_text)\n",
    "        })\n",
    "\n",
    "    df = pd.DataFrame(data)\n",
    "\n",
    "    styles = \"\"\"\n",
    "    <style>\n",
    "    table {\n",
    "        table-layout: auto;\n",
    "        word-wrap: break-word;\n",
    "    }\n",
    "    td {\n",
    "        white-space: normal !important;\n",
    "        font-family: monospace;\n",
    "        vertical-align: top;\n",
    "    }\n",
    "    </style>\n",
    "    \"\"\"\n",
    "    display(HTML(styles + df.to_html(escape=False)))\n"
   ]
  },
  {
   "cell_type": "code",
   "execution_count": null,
   "metadata": {},
   "outputs": [],
   "source": [
    "# test_pred = predictions_test['UnixCommands/cat']\n",
    "line_mappings = sketch.map_predicted_lines_to_source_lines(\n",
    "    test_pred.source,\n",
    "    test_pred.pred,\n",
    "    test_pred.alignments\n",
    ")\n",
    "print(line_mappings)\n",
    "blocks = sketch.extract_pure_instruction_blocks(\n",
    "    test_pred.source, test_pred.pred, line_mappings\n",
    ")\n",
    "\n",
    "print(blocks)\n",
    "\n",
    "display_blocks(blocks, test_pred)"
   ]
  },
  {
   "cell_type": "code",
   "execution_count": null,
   "metadata": {},
   "outputs": [],
   "source": [
    "results = sketch.sketch({\"test_pred\": test_pred})\n",
    "\n",
    "for pred_result, sketch_result in results:\n",
    "    print(pred_result.instance_id)\n",
    "    print(f\"Ratio of invalid_blocks: {len(sketch_result.invalid_blocks)/len(sketch_result.total_blocks)}\")\n",
    "    print(f\"Ratio of non_equivalent_blocks: {len(sketch_result.non_equivalent_blocks)/len(sketch_result.total_blocks)}\")"
   ]
  }
 ],
 "metadata": {
  "kernelspec": {
   "display_name": "Python 3",
   "language": "python",
   "name": "python3"
  },
  "language_info": {
   "codemirror_mode": {
    "name": "ipython",
    "version": 3
   },
   "file_extension": ".py",
   "mimetype": "text/x-python",
   "name": "python",
   "nbconvert_exporter": "python",
   "pygments_lexer": "ipython3",
   "version": "3.11.10"
  }
 },
 "nbformat": 4,
 "nbformat_minor": 2
}
