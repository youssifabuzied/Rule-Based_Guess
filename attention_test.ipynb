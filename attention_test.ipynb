{
 "cells": [
  {
   "cell_type": "code",
   "execution_count": 14,
   "metadata": {},
   "outputs": [
    {
     "name": "stderr",
     "output_type": "stream",
     "text": [
      "2025-04-23 22:26:28,457 - src.domain.models.QwenModel - INFO - Initializing QwenModel with ahmedheakl/asm2asm_1.5b_armv8_o0 on device mps\n"
     ]
    },
    {
     "name": "stdout",
     "output_type": "stream",
     "text": [
      "Loading Qwen model: ahmedheakl/asm2asm_1.5b_armv8_o0\n"
     ]
    },
    {
     "name": "stderr",
     "output_type": "stream",
     "text": [
      "2025-04-23 22:26:31,264 - QwenModel - INFO - Initialized QwenModel on device: mps:0\n",
      "2025-04-23 22:26:31,265 - src.domain.models.QwenModel - INFO - Model initialization completed in 2.81 seconds\n"
     ]
    },
    {
     "name": "stdout",
     "output_type": "stream",
     "text": [
      "Source JSONL: data/processed/X86/BringUp_x86.jsonl\n",
      "Target JSONL: data/processed/ARM64/BringUp_arm.jsonl\n",
      "Loading file: data/processed/X86/BringUp_x86.jsonl\n",
      "Loaded 48 entries from data/processed/X86/BringUp_x86.jsonl\n",
      "Loading file: data/processed/ARM64/BringUp_arm.jsonl\n",
      "Loaded 48 entries from data/processed/ARM64/BringUp_arm.jsonl\n"
     ]
    }
   ],
   "source": [
    "from src.guess.guess import ConfigType, Guess, Config\n",
    "from src.domain.datasets.UnixCommandDataset import UnixCommandDataset  # Register dataset\n",
    "from src.domain.datasets.ProjectEulerDataset import ProjectEulerDataset\n",
    "from src.domain.datasets.BringUpDataset import BringUpDataset\n",
    "\n",
    "prediction = None\n",
    "\n",
    "config = Config(ConfigType.QWEN_X862ARM64.get_path())\n",
    "guess = Guess(config=config)"
   ]
  },
  {
   "cell_type": "code",
   "execution_count": 15,
   "metadata": {},
   "outputs": [
    {
     "name": "stdout",
     "output_type": "stream",
     "text": [
      "Source entries: 48\n",
      "Target entries: 48\n"
     ]
    },
    {
     "ename": "KeyError",
     "evalue": "'c_files'",
     "output_type": "error",
     "traceback": [
      "\u001b[31m---------------------------------------------------------------------------\u001b[39m",
      "\u001b[31mKeyError\u001b[39m                                  Traceback (most recent call last)",
      "\u001b[36mCell\u001b[39m\u001b[36m \u001b[39m\u001b[32mIn[15]\u001b[39m\u001b[32m, line 1\u001b[39m\n\u001b[32m----> \u001b[39m\u001b[32m1\u001b[39m test_instance = \u001b[43mguess\u001b[49m\u001b[43m.\u001b[49m\u001b[43mdata_loader\u001b[49m\u001b[43m.\u001b[49m\u001b[43miter\u001b[49m\u001b[43m(\u001b[49m\u001b[43m)\u001b[49m\u001b[43m.\u001b[49m\u001b[34;43m__next__\u001b[39;49m\u001b[43m(\u001b[49m\u001b[43m)\u001b[49m\n\u001b[32m      2\u001b[39m \u001b[38;5;28mprint\u001b[39m(test_instance)\n",
      "\u001b[36mFile \u001b[39m\u001b[32m~/projects/guess_sketch/src/helpers/data_loader.py:73\u001b[39m, in \u001b[36mDataLoader.iter\u001b[39m\u001b[34m(self)\u001b[39m\n\u001b[32m     67\u001b[39m \u001b[38;5;250m\u001b[39m\u001b[33;03m\"\"\"Iterate over all batches in the dataset.\u001b[39;00m\n\u001b[32m     68\u001b[39m \n\u001b[32m     69\u001b[39m \u001b[33;03mYields:\u001b[39;00m\n\u001b[32m     70\u001b[39m \u001b[33;03m    DatasetInstance objects\u001b[39;00m\n\u001b[32m     71\u001b[39m \u001b[33;03m\"\"\"\u001b[39;00m\n\u001b[32m     72\u001b[39m \u001b[38;5;28;01mif\u001b[39;00m \u001b[38;5;28mself\u001b[39m._data \u001b[38;5;129;01mis\u001b[39;00m \u001b[38;5;28;01mNone\u001b[39;00m:\n\u001b[32m---> \u001b[39m\u001b[32m73\u001b[39m     \u001b[38;5;28mself\u001b[39m._data = \u001b[38;5;28;43mself\u001b[39;49m\u001b[43m.\u001b[49m\u001b[43mdataset\u001b[49m\u001b[43m.\u001b[49m\u001b[43mload_data\u001b[49m\u001b[43m(\u001b[49m\u001b[43m)\u001b[49m\n\u001b[32m     74\u001b[39m     \u001b[38;5;28mself\u001b[39m._current_index = \u001b[32m0\u001b[39m\n\u001b[32m     75\u001b[39m     \u001b[38;5;28mself\u001b[39m._logger.info(\u001b[33mf\u001b[39m\u001b[33m\"\u001b[39m\u001b[33mLoaded \u001b[39m\u001b[38;5;132;01m{\u001b[39;00m\u001b[38;5;28mlen\u001b[39m(\u001b[38;5;28mself\u001b[39m._data)\u001b[38;5;132;01m}\u001b[39;00m\u001b[33m samples from dataset\u001b[39m\u001b[33m\"\u001b[39m)\n",
      "\u001b[36mFile \u001b[39m\u001b[32m~/projects/guess_sketch/src/domain/datasets/BringUpDataset.py:97\u001b[39m, in \u001b[36mBringUpDataset.load_data\u001b[39m\u001b[34m(self)\u001b[39m\n\u001b[32m     94\u001b[39m target_entry = \u001b[38;5;28mself\u001b[39m.metadata[\u001b[33m'\u001b[39m\u001b[33mtarget\u001b[39m\u001b[33m'\u001b[39m][idx]\n\u001b[32m     96\u001b[39m \u001b[38;5;66;03m# Get C source code if available\u001b[39;00m\n\u001b[32m---> \u001b[39m\u001b[32m97\u001b[39m c_source = \u001b[38;5;28;43mself\u001b[39;49m\u001b[43m.\u001b[49m\u001b[43mmetadata\u001b[49m\u001b[43m[\u001b[49m\u001b[33;43m'\u001b[39;49m\u001b[33;43mc_files\u001b[39;49m\u001b[33;43m'\u001b[39;49m\u001b[43m]\u001b[49m.get(\n\u001b[32m     98\u001b[39m     source_entry[\u001b[33m'\u001b[39m\u001b[33msource\u001b[39m\u001b[33m'\u001b[39m].replace(\u001b[33m'\u001b[39m\u001b[33m.s\u001b[39m\u001b[33m'\u001b[39m, \u001b[33m'\u001b[39m\u001b[33m'\u001b[39m), \u001b[33m'\u001b[39m\u001b[33m'\u001b[39m)\n\u001b[32m    100\u001b[39m arch_map = {\u001b[33m'\u001b[39m\u001b[33mx86\u001b[39m\u001b[33m'\u001b[39m: \u001b[33m'\u001b[39m\u001b[33mx86\u001b[39m\u001b[33m'\u001b[39m, \u001b[33m'\u001b[39m\u001b[33marm64\u001b[39m\u001b[33m'\u001b[39m: \u001b[33m'\u001b[39m\u001b[33marm\u001b[39m\u001b[33m'\u001b[39m, \u001b[33m'\u001b[39m\u001b[33mriscv\u001b[39m\u001b[33m'\u001b[39m: \u001b[33m'\u001b[39m\u001b[33mrisc\u001b[39m\u001b[33m'\u001b[39m}\n\u001b[32m    101\u001b[39m source_key = arch_map[\u001b[38;5;28mself\u001b[39m.source_arch]\n",
      "\u001b[31mKeyError\u001b[39m: 'c_files'"
     ]
    }
   ],
   "source": [
    "test_instance = guess.data_loader.iter().__next__()\n",
    "print(test_instance)\n"
   ]
  },
  {
   "cell_type": "code",
   "execution_count": 3,
   "metadata": {},
   "outputs": [],
   "source": [
    "import pickle\n",
    "import os\n",
    "\n",
    "if os.path.exists(\"test_pred.pkl\"):\n",
    "    with open(\"test_pred.pkl\", \"rb\") as f:\n",
    "        test_pred = pickle.load(f)\n",
    "else:\n",
    "    test_pred = guess.model.predict(test_instance, guess.inference_cfg)\n",
    "    with open(\"test_pred.pkl\", \"wb\") as f:\n",
    "        pickle.dump(test_pred, f)"
   ]
  },
  {
   "cell_type": "code",
   "execution_count": 4,
   "metadata": {},
   "outputs": [],
   "source": [
    "from src.sketch.sketch import Sketch\n",
    "\n",
    "sketch = Sketch(config, guess.model)"
   ]
  },
  {
   "cell_type": "code",
   "execution_count": 5,
   "metadata": {},
   "outputs": [],
   "source": [
    "import pandas as pd\n",
    "from IPython.display import HTML, display\n",
    "\n",
    "def html_escape(text):\n",
    "    # Convert special characters to HTML-safe versions\n",
    "    return (text.replace(\"&\", \"&amp;\")\n",
    "                .replace(\"<\", \"&lt;\")\n",
    "                .replace(\">\", \"&gt;\")\n",
    "                .replace(\"\\n\", \"<br>\")\n",
    "                .replace(\"\\t\", \"&nbsp;&nbsp;&nbsp;&nbsp;\"))  # 4 spaces for a tab\n",
    "\n",
    "def display_blocks(blocks, pred):\n",
    "    data = []\n",
    "\n",
    "    for block in blocks:\n",
    "        source_text = sketch.model.tokenizer.decode(\n",
    "            pred.source[0][block.source_start:block.source_end]\n",
    "        )\n",
    "        pred_text = sketch.model.tokenizer.decode(\n",
    "            pred.pred[0][block.pred_start:block.pred_end]\n",
    "        )\n",
    "        data.append({\n",
    "            'SOURCE': html_escape(source_text),\n",
    "            'PRED': html_escape(pred_text)\n",
    "        })\n",
    "\n",
    "    df = pd.DataFrame(data)\n",
    "\n",
    "    styles = \"\"\"\n",
    "    <style>\n",
    "    table {\n",
    "        table-layout: auto;\n",
    "        word-wrap: break-word;\n",
    "    }\n",
    "    td {\n",
    "        white-space: normal !important;\n",
    "        font-family: monospace;\n",
    "        vertical-align: top;\n",
    "    }\n",
    "    </style>\n",
    "    \"\"\"\n",
    "    display(HTML(styles + df.to_html(escape=False)))\n"
   ]
  },
  {
   "cell_type": "code",
   "execution_count": 9,
   "metadata": {},
   "outputs": [
    {
     "name": "stdout",
     "output_type": "stream",
     "text": [
      "[PureInstructionBlock(source_start=45, source_end=55, pred_start=71, pred_end=80), PureInstructionBlock(source_start=118, source_end=126, pred_start=173, pred_end=182), PureInstructionBlock(source_start=138, source_end=150, pred_start=195, pred_end=206), PureInstructionBlock(source_start=162, source_end=170, pred_start=218, pred_end=227), PureInstructionBlock(source_start=235, source_end=247, pred_start=256, pred_end=266), PureInstructionBlock(source_start=257, source_end=275, pred_start=279, pred_end=298), PureInstructionBlock(source_start=288, source_end=300, pred_start=308, pred_end=318), PureInstructionBlock(source_start=313, source_end=331, pred_start=318, pred_end=337), PureInstructionBlock(source_start=408, source_end=416, pred_start=396, pred_end=405), PureInstructionBlock(source_start=456, source_end=474, pred_start=429, pred_end=448), PureInstructionBlock(source_start=526, source_end=534, pred_start=531, pred_end=540), PureInstructionBlock(source_start=565, source_end=575, pred_start=564, pred_end=574)]\n"
     ]
    },
    {
     "data": {
      "text/html": [
       "\n",
       "    <style>\n",
       "    table {\n",
       "        table-layout: auto;\n",
       "        word-wrap: break-word;\n",
       "    }\n",
       "    td {\n",
       "        white-space: normal !important;\n",
       "        font-family: monospace;\n",
       "        vertical-align: top;\n",
       "    }\n",
       "    </style>\n",
       "    <table border=\"1\" class=\"dataframe\">\n",
       "  <thead>\n",
       "    <tr style=\"text-align: right;\">\n",
       "      <th></th>\n",
       "      <th>SOURCE</th>\n",
       "      <th>PRED</th>\n",
       "    </tr>\n",
       "  </thead>\n",
       "  <tbody>\n",
       "    <tr>\n",
       "      <th>0</th>\n",
       "      <td><br>&nbsp;&nbsp;&nbsp;&nbsp;mv&nbsp;&nbsp;&nbsp;&nbsp;a5,a0</td>\n",
       "      <td><br>&nbsp;&nbsp;&nbsp;&nbsp;mov&nbsp;&nbsp;&nbsp;&nbsp;x29, sp</td>\n",
       "    </tr>\n",
       "    <tr>\n",
       "      <th>1</th>\n",
       "      <td><br>&nbsp;&nbsp;&nbsp;&nbsp;li&nbsp;&nbsp;&nbsp;&nbsp;a4, 0</td>\n",
       "      <td><br>&nbsp;&nbsp;&nbsp;&nbsp;mov&nbsp;&nbsp;&nbsp;&nbsp;x1, 0</td>\n",
       "    </tr>\n",
       "    <tr>\n",
       "      <th>2</th>\n",
       "      <td><br>&nbsp;&nbsp;&nbsp;&nbsp;addi&nbsp;&nbsp;&nbsp;&nbsp;a5,a5,8</td>\n",
       "      <td><br>&nbsp;&nbsp;&nbsp;&nbsp;add&nbsp;&nbsp;&nbsp;&nbsp;x0, x0, 8</td>\n",
       "    </tr>\n",
       "    <tr>\n",
       "      <th>3</th>\n",
       "      <td><br>&nbsp;&nbsp;&nbsp;&nbsp;li&nbsp;&nbsp;&nbsp;&nbsp;a1,0</td>\n",
       "      <td><br>&nbsp;&nbsp;&nbsp;&nbsp;mov&nbsp;&nbsp;&nbsp;&nbsp;w1, 0</td>\n",
       "    </tr>\n",
       "    <tr>\n",
       "      <th>4</th>\n",
       "      <td><br>&nbsp;&nbsp;&nbsp;&nbsp;addi&nbsp;&nbsp;&nbsp;&nbsp;a5,s0,-128</td>\n",
       "      <td><br>&nbsp;&nbsp;&nbsp;&nbsp;add&nbsp;&nbsp;&nbsp;&nbsp;x0, sp, 48</td>\n",
       "    </tr>\n",
       "    <tr>\n",
       "      <th>5</th>\n",
       "      <td><br>&nbsp;&nbsp;&nbsp;&nbsp;mv&nbsp;&nbsp;&nbsp;&nbsp;a1,a5<br>&nbsp;&nbsp;&nbsp;&nbsp;li&nbsp;&nbsp;&nbsp;&nbsp;a0,1</td>\n",
       "      <td><br>&nbsp;&nbsp;&nbsp;&nbsp;mov&nbsp;&nbsp;&nbsp;&nbsp;x1, x0<br>&nbsp;&nbsp;&nbsp;&nbsp;mov&nbsp;&nbsp;&nbsp;&nbsp;w0, 1</td>\n",
       "    </tr>\n",
       "    <tr>\n",
       "      <th>6</th>\n",
       "      <td><br>&nbsp;&nbsp;&nbsp;&nbsp;addi&nbsp;&nbsp;&nbsp;&nbsp;a4,s0,-128</td>\n",
       "      <td><br>&nbsp;&nbsp;&nbsp;&nbsp;add&nbsp;&nbsp;&nbsp;&nbsp;x0, sp, 48</td>\n",
       "    </tr>\n",
       "    <tr>\n",
       "      <th>7</th>\n",
       "      <td><br>&nbsp;&nbsp;&nbsp;&nbsp;li&nbsp;&nbsp;&nbsp;&nbsp;a2,99<br>&nbsp;&nbsp;&nbsp;&nbsp;mv&nbsp;&nbsp;&nbsp;&nbsp;a1,a4</td>\n",
       "      <td><br>&nbsp;&nbsp;&nbsp;&nbsp;mov&nbsp;&nbsp;&nbsp;&nbsp;x2, 99<br>&nbsp;&nbsp;&nbsp;&nbsp;mov&nbsp;&nbsp;&nbsp;&nbsp;x1, x0</td>\n",
       "    </tr>\n",
       "    <tr>\n",
       "      <th>8</th>\n",
       "      <td><br>&nbsp;&nbsp;&nbsp;&nbsp;li&nbsp;&nbsp;&nbsp;&nbsp;a0,10</td>\n",
       "      <td><br>&nbsp;&nbsp;&nbsp;&nbsp;mov&nbsp;&nbsp;&nbsp;&nbsp;w0, 10</td>\n",
       "    </tr>\n",
       "    <tr>\n",
       "      <th>9</th>\n",
       "      <td><br>&nbsp;&nbsp;&nbsp;&nbsp;li&nbsp;&nbsp;&nbsp;&nbsp;a5,0<br>&nbsp;&nbsp;&nbsp;&nbsp;mv&nbsp;&nbsp;&nbsp;&nbsp;a4,a5</td>\n",
       "      <td><br>&nbsp;&nbsp;&nbsp;&nbsp;mov&nbsp;&nbsp;&nbsp;&nbsp;w0, 0<br>&nbsp;&nbsp;&nbsp;&nbsp;mov&nbsp;&nbsp;&nbsp;&nbsp;w1, w0</td>\n",
       "    </tr>\n",
       "    <tr>\n",
       "      <th>10</th>\n",
       "      <td><br>&nbsp;&nbsp;&nbsp;&nbsp;li&nbsp;&nbsp;&nbsp;&nbsp;a3, 0</td>\n",
       "      <td><br>&nbsp;&nbsp;&nbsp;&nbsp;mov&nbsp;&nbsp;&nbsp;&nbsp;x2, 0</td>\n",
       "    </tr>\n",
       "    <tr>\n",
       "      <th>11</th>\n",
       "      <td><br>&nbsp;&nbsp;&nbsp;&nbsp;mv&nbsp;&nbsp;&nbsp;&nbsp;a0,a4</td>\n",
       "      <td><br>&nbsp;&nbsp;&nbsp;&nbsp;mov&nbsp;&nbsp;&nbsp;&nbsp;w0, w1</td>\n",
       "    </tr>\n",
       "  </tbody>\n",
       "</table>"
      ],
      "text/plain": [
       "<IPython.core.display.HTML object>"
      ]
     },
     "metadata": {},
     "output_type": "display_data"
    }
   ],
   "source": [
    "# test_pred = predictions_test['UnixCommands/cat']\n",
    "line_mappings = sketch.map_predicted_lines_to_source_lines(\n",
    "    test_pred.source,\n",
    "    test_pred.pred,\n",
    "    test_pred.alignments\n",
    ")\n",
    "\n",
    "blocks = sketch.extract_pure_instruction_blocks(\n",
    "    test_pred.source, test_pred.pred, line_mappings\n",
    ")\n",
    "\n",
    "print(blocks)\n",
    "\n",
    "display_blocks(blocks, test_pred)"
   ]
  },
  {
   "cell_type": "code",
   "execution_count": 7,
   "metadata": {},
   "outputs": [
    {
     "name": "stdout",
     "output_type": "stream",
     "text": [
      "UnixCommands/cat\n",
      "Ratio of invalid_blocks: 0.0\n",
      "Ratio of non_equivalent_blocks: 0.16666666666666666\n"
     ]
    }
   ],
   "source": [
    "results = sketch.sketch({\"test_pred\": test_pred})\n",
    "\n",
    "for pred_result, sketch_result in results:\n",
    "    print(pred_result.instance_id)\n",
    "    print(f\"Ratio of invalid_blocks: {len(sketch_result.invalid_blocks)/len(sketch_result.total_blocks)}\")\n",
    "    print(f\"Ratio of non_equivalent_blocks: {len(sketch_result.non_equivalent_blocks)/len(sketch_result.total_blocks)}\")"
   ]
  },
  {
   "cell_type": "code",
   "execution_count": 10,
   "metadata": {},
   "outputs": [
    {
     "name": "stdout",
     "output_type": "stream",
     "text": [
      "main:\n",
      ".LFB6:\n",
      "\t.cfi_startproc\n",
      "\tstp\tx29, x30, [sp, -160]!\n",
      "\t.cfi_def_cfa_offset 160\n",
      "\t.cfi_offset 29, -160\n",
      "\t.cfi_offset 30, -152\n",
      "\tmov\tx29, sp\n",
      "\tstr\tw0, [sp, 28]\n",
      "\tstr\tx1, [sp, 16]\n",
      "\tadrp\tx0, :got:__stack_chk_guard\n",
      "\tldr\tx0, [x0, #:got_lo12:__stack_chk_guard]\n",
      "\tldr\tx1, [x0]\n",
      "\tstr\tx1, [sp, 152]\n",
      "\tmov\tx1, 0\n",
      "\tldr\tx0, [sp, 16]\n",
      "\tadd\tx0, x0, 8\n",
      "\tldr\tx0, [x0]\n",
      "\tmov\tw1, 0\n",
      "\tbl\topen\n",
      "\tstr\tw0, [sp, 40]\n",
      "\tb\t.L2\n",
      ".L3:\n",
      "\tadd\tx0, sp, 48\n",
      "\tldr\tw2, [sp, 44]\n",
      "\tmov\tx1, x0\n",
      "\tmov\tw0, 1\n",
      "\tbl\twrite\n",
      ".L2:\n",
      "\tadd\tx0, sp, 48\n",
      "\tmov\tx2, 99\n",
      "\tmov\tx1, x0\n",
      "\tldr\tw0, [sp, 40]\n",
      "\tbl\tread\n",
      "\tstr\tw0, [sp, 44]\n",
      "\tldr\tw0, [sp, 44]\n",
      "\tcmp\tw0, 0\n",
      "\tbne\t.L3\n",
      "\tmov\tw0, 10\n",
      "\tbl\tputchar\n",
      "\tldr\tw0, [sp, 40]\n",
      "\tbl\tclose\n",
      "\tmov\tw0, 0\n",
      "\tmov\tw1, w0\n",
      "\tadrp\tx0, :got:__stack_chk_guard\n",
      "\tldr\tx0, [x0, #:got_lo12:__stack_chk_guard]\n",
      "\tldr\tx3, [sp, 152]\n",
      "\tldr\tx2, [x0]\n",
      "\tsubs\tx3, x3, x2\n",
      "\tmov\tx2, 0\n",
      "\tbeq\t.L5\n",
      "\tbl\t__stack_chk_fail\n",
      ".L5:\n",
      "\tmov\tw0, w1\n",
      "\tldp\tx29, x30, [sp], 160\n",
      "\t.cfi_restore 30\n",
      "\t.cfi_restore 29\n",
      "\t.cfi_def_cfa_offset 0\n",
      "\tret\n",
      "\t.cfi_endproc\n",
      "\t.arch armv8-a\n",
      "\t.file\t\"program.c\"\n",
      "\t.c\"\n",
      "\t.text\n",
      "\t.align\t2\n",
      "\t.global\tmain\n",
      "\t.type\tmain, %function\n",
      "{main}.LFE0:\n",
      "\t.size\tmain, .-main\n",
      "\t.section\t.rodata\n",
      "\t.align\t4\n",
      "\n",
      ".LC0:\n",
      "\t.word\t0\n",
      "\t.word\t0\n",
      "\t.word\t1\n",
      "\t.ident\t\"GCC: (Ubuntu 11.3.0-1ubuntu1~22.04) 11.3.0\"\n",
      "\t.section\t.note.GNU-stack,\"\",@progbits\n",
      "\n"
     ]
    }
   ],
   "source": [
    "print(sketch.model.decode(test_pred.pred))"
   ]
  }
 ],
 "metadata": {
  "kernelspec": {
   "display_name": "Python 3",
   "language": "python",
   "name": "python3"
  },
  "language_info": {
   "codemirror_mode": {
    "name": "ipython",
    "version": 3
   },
   "file_extension": ".py",
   "mimetype": "text/x-python",
   "name": "python",
   "nbconvert_exporter": "python",
   "pygments_lexer": "ipython3",
   "version": "3.11.12"
  }
 },
 "nbformat": 4,
 "nbformat_minor": 2
}
