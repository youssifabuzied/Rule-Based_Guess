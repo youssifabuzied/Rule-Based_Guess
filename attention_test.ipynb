{
 "cells": [
  {
   "cell_type": "code",
   "execution_count": 1,
   "metadata": {},
   "outputs": [
    {
     "name": "stderr",
     "output_type": "stream",
     "text": [
      "/opt/homebrew/lib/python3.13/site-packages/tqdm/auto.py:21: TqdmWarning: IProgress not found. Please update jupyter and ipywidgets. See https://ipywidgets.readthedocs.io/en/stable/user_install.html\n",
      "  from .autonotebook import tqdm as notebook_tqdm\n"
     ]
    },
    {
     "ename": "ValueError",
     "evalue": "Unknown model type in ahmedheakl/asm2asm_1.5B_armv8_O0",
     "output_type": "error",
     "traceback": [
      "\u001b[31m---------------------------------------------------------------------------\u001b[39m",
      "\u001b[31mValueError\u001b[39m                                Traceback (most recent call last)",
      "\u001b[36mCell\u001b[39m\u001b[36m \u001b[39m\u001b[32mIn[1]\u001b[39m\u001b[32m, line 6\u001b[39m\n\u001b[32m      3\u001b[39m \u001b[38;5;28;01mfrom\u001b[39;00m\u001b[38;5;250m \u001b[39m\u001b[34;01msrc\u001b[39;00m\u001b[34;01m.\u001b[39;00m\u001b[34;01mdomain\u001b[39;00m\u001b[34;01m.\u001b[39;00m\u001b[34;01mdatasets\u001b[39;00m\u001b[34;01m.\u001b[39;00m\u001b[34;01mProjectEulerDataset\u001b[39;00m\u001b[38;5;250m \u001b[39m\u001b[38;5;28;01mimport\u001b[39;00m ProjectEulerDataset\n\u001b[32m      5\u001b[39m config = Config(ConfigType.QWEN_X862ARM64.get_path())\n\u001b[32m----> \u001b[39m\u001b[32m6\u001b[39m guess = \u001b[43mGuess\u001b[49m\u001b[43m(\u001b[49m\u001b[43mconfig\u001b[49m\u001b[43m=\u001b[49m\u001b[43mconfig\u001b[49m\u001b[43m)\u001b[49m\n\u001b[32m      7\u001b[39m predictions = guess.guess()\n",
      "\u001b[36mFile \u001b[39m\u001b[32m~/projects/GuessSketchFlow/src/guess/guess.py:80\u001b[39m, in \u001b[36mGuess.__init__\u001b[39m\u001b[34m(self, config)\u001b[39m\n\u001b[32m     76\u001b[39m     \u001b[38;5;28mself\u001b[39m.model: Model = BartLargeModel(\n\u001b[32m     77\u001b[39m         model_name=\u001b[38;5;28mself\u001b[39m.config.model_name, device=\u001b[33m\"\u001b[39m\u001b[33mmps\u001b[39m\u001b[33m\"\u001b[39m\n\u001b[32m     78\u001b[39m     )\n\u001b[32m     79\u001b[39m \u001b[38;5;28;01melse\u001b[39;00m:\n\u001b[32m---> \u001b[39m\u001b[32m80\u001b[39m     \u001b[38;5;28;01mraise\u001b[39;00m \u001b[38;5;167;01mValueError\u001b[39;00m(\u001b[33mf\u001b[39m\u001b[33m\"\u001b[39m\u001b[33mUnknown model type in \u001b[39m\u001b[38;5;132;01m{\u001b[39;00m\u001b[38;5;28mself\u001b[39m.config.model_name\u001b[38;5;132;01m}\u001b[39;00m\u001b[33m\"\u001b[39m)\n\u001b[32m     82\u001b[39m \u001b[38;5;28mself\u001b[39m.is_enc_dec = \u001b[38;5;28mself\u001b[39m.config.is_enc_dec\n\u001b[32m     83\u001b[39m \u001b[38;5;66;03m# Setup predictions directory\u001b[39;00m\n",
      "\u001b[31mValueError\u001b[39m: Unknown model type in ahmedheakl/asm2asm_1.5B_armv8_O0"
     ]
    }
   ],
   "source": [
    "from src.guess.guess import ConfigType, Guess, Config\n",
    "from src.domain.datasets.UnixCommandDataset import UnixCommandDataset  # Register dataset\n",
    "from src.domain.datasets.ProjectEulerDataset import ProjectEulerDataset\n",
    "\n",
    "config = Config(ConfigType.QWEN_X862ARM64.get_path())\n",
    "guess = Guess(config=config)\n",
    "predictions = guess.guess()"
   ]
  },
  {
   "cell_type": "code",
   "execution_count": 2,
   "metadata": {},
   "outputs": [],
   "source": [
    "%load_ext autoreload\n",
    "%autoreload 2"
   ]
  },
  {
   "cell_type": "code",
   "execution_count": 3,
   "metadata": {},
   "outputs": [],
   "source": [
    "from src.sketch.sketch import Sketch\n",
    "\n",
    "sketch = Sketch(config, guess.model)"
   ]
  },
  {
   "cell_type": "code",
   "execution_count": 4,
   "metadata": {},
   "outputs": [],
   "source": [
    "import pandas as pd\n",
    "from IPython.display import HTML, display\n",
    "\n",
    "def html_escape(text):\n",
    "    # Convert special characters to HTML-safe versions\n",
    "    return (text.replace(\"&\", \"&amp;\")\n",
    "                .replace(\"<\", \"&lt;\")\n",
    "                .replace(\">\", \"&gt;\")\n",
    "                .replace(\"\\n\", \"<br>\")\n",
    "                .replace(\"\\t\", \"&nbsp;&nbsp;&nbsp;&nbsp;\"))  # 4 spaces for a tab\n",
    "\n",
    "def display_blocks(blocks, pred):\n",
    "    data = []\n",
    "\n",
    "    for block in blocks:\n",
    "        source_text = sketch.model.tokenizer.decode(\n",
    "            pred.source[0][block.source_start:block.source_end]\n",
    "        )\n",
    "        pred_text = sketch.model.tokenizer.decode(\n",
    "            pred.pred[0][block.pred_start:block.pred_end]\n",
    "        )\n",
    "        data.append({\n",
    "            'SOURCE': html_escape(source_text),\n",
    "            'PRED': html_escape(pred_text)\n",
    "        })\n",
    "\n",
    "    df = pd.DataFrame(data)\n",
    "\n",
    "    styles = \"\"\"\n",
    "    <style>\n",
    "    table {\n",
    "        table-layout: auto;\n",
    "        word-wrap: break-word;\n",
    "    }\n",
    "    td {\n",
    "        white-space: normal !important;\n",
    "        font-family: monospace;\n",
    "        vertical-align: top;\n",
    "    }\n",
    "    </style>\n",
    "    \"\"\"\n",
    "    display(HTML(styles + df.to_html(escape=False)))\n"
   ]
  },
  {
   "cell_type": "code",
   "execution_count": 21,
   "metadata": {},
   "outputs": [
    {
     "name": "stdout",
     "output_type": "stream",
     "text": [
      "UnixCommands/cat\n",
      "Ratio of invalid_blocks: 0.0\n",
      "Ratio of non_equivalent_blocks: 0.2857142857142857\n",
      "UnixCommands/cd\n",
      "Ratio of invalid_blocks: 0.1111111111111111\n",
      "Ratio of non_equivalent_blocks: 0.3333333333333333\n",
      "UnixCommands/cp\n",
      "Ratio of invalid_blocks: 0.3125\n",
      "Ratio of non_equivalent_blocks: 0.5625\n",
      "UnixCommands/ls\n",
      "Ratio of invalid_blocks: 0.0\n",
      "Ratio of non_equivalent_blocks: 0.20833333333333334\n",
      "UnixCommands/mkdir\n",
      "Ratio of invalid_blocks: 0.0\n",
      "Ratio of non_equivalent_blocks: 0.0\n",
      "UnixCommands/ps\n",
      "Ratio of invalid_blocks: 0.2\n",
      "Ratio of non_equivalent_blocks: 0.6\n",
      "UnixCommands/rm\n",
      "Ratio of invalid_blocks: 0.0\n",
      "Ratio of non_equivalent_blocks: 0.0\n",
      "UnixCommands/rmdir\n",
      "Ratio of invalid_blocks: 0.0\n",
      "Ratio of non_equivalent_blocks: 0.0\n",
      "UnixCommands/tee\n",
      "Ratio of invalid_blocks: 0.0\n",
      "Ratio of non_equivalent_blocks: 0.42857142857142855\n",
      "UnixCommands/touch\n",
      "Ratio of invalid_blocks: 0.0\n",
      "Ratio of non_equivalent_blocks: 0.0\n",
      "UnixCommands/xargs\n",
      "Ratio of invalid_blocks: 0.25\n",
      "Ratio of non_equivalent_blocks: 0.5\n"
     ]
    }
   ],
   "source": [
    "results = sketch.sketch(predictions)\n",
    "\n",
    "for pred_result, sketch_result in results:\n",
    "    print(pred_result.instance_id)\n",
    "    print(f\"Ratio of invalid_blocks: {len(sketch_result.invalid_blocks)/len(sketch_result.total_blocks)}\")\n",
    "    print(f\"Ratio of non_equivalent_blocks: {len(sketch_result.non_equivalent_blocks)/len(sketch_result.total_blocks)}\")"
   ]
  }
 ],
 "metadata": {
  "kernelspec": {
   "display_name": "Python 3",
   "language": "python",
   "name": "python3"
  },
  "language_info": {
   "codemirror_mode": {
    "name": "ipython",
    "version": 3
   },
   "file_extension": ".py",
   "mimetype": "text/x-python",
   "name": "python",
   "nbconvert_exporter": "python",
   "pygments_lexer": "ipython3",
   "version": "3.13.2"
  }
 },
 "nbformat": 4,
 "nbformat_minor": 2
}
