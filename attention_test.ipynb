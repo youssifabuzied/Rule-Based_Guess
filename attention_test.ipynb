{
 "cells": [
  {
   "cell_type": "code",
   "execution_count": 1,
   "metadata": {},
   "outputs": [
    {
     "name": "stderr",
     "output_type": "stream",
     "text": [
      "/opt/homebrew/lib/python3.11/site-packages/tqdm/auto.py:21: TqdmWarning: IProgress not found. Please update jupyter and ipywidgets. See https://ipywidgets.readthedocs.io/en/stable/user_install.html\n",
      "  from .autonotebook import tqdm as notebook_tqdm\n",
      "2025-05-11 23:14:16,006 - src.domain.models.QwenModel - INFO - Initializing QwenModel with ahmedheakl/ex19_qwen2.5-1.5b-1m-stack-16kcw on device mps\n"
     ]
    },
    {
     "name": "stdout",
     "output_type": "stream",
     "text": [
      "Loading Qwen model: ahmedheakl/ex19_qwen2.5-1.5b-1m-stack-16kcw\n"
     ]
    },
    {
     "name": "stderr",
     "output_type": "stream",
     "text": [
      "2025-05-11 23:14:18,943 - QwenModel - INFO - Initialized QwenModel on device: mps:0\n",
      "2025-05-11 23:14:18,944 - src.domain.models.QwenModel - INFO - Model initialization completed in 2.94 seconds\n",
      "2025-05-11 23:14:18,947 - src.helpers.dataset - INFO - Loaded 31 instances\n",
      "2025-05-11 23:14:18,947 - src.helpers.data_loader - INFO - Loaded 31 samples from dataset\n",
      "2025-05-11 23:14:18,957 - src.domain.models.QwenModel - INFO - Starting inference with temperature=0.7, max_length=4096\n",
      "2025-05-11 23:14:18,957 - src.domain.models.QwenModel - INFO - Input shape: torch.Size([1, 654])\n",
      "`torch.nn.functional.scaled_dot_product_attention` does not support `output_attentions=True`. Falling back to eager attention. This warning can be removed using the argument `attn_implementation=\"eager\"` when loading the model.\n"
     ]
    },
    {
     "name": "stdout",
     "output_type": "stream",
     "text": [
      "Source JSONL: data/processed/X86/BringUp_x86.jsonl\n",
      "Target JSONL: data/processed/ARM64/BringUp_arm.jsonl\n",
      "Loading file: data/processed/X86/BringUp_x86.jsonl\n",
      "Loaded 31 entries from data/processed/X86/BringUp_x86.jsonl\n",
      "Loading file: data/processed/ARM64/BringUp_arm.jsonl\n",
      "Loaded 31 entries from data/processed/ARM64/BringUp_arm.jsonl\n",
      "Source entries: 31\n",
      "Target entries: 31\n",
      "Creating instance 0 with source key x86 and target key arm\n",
      "Source entry keys: dict_keys(['source', 'x86', 'x86_output'])\n",
      "Target entry keys: dict_keys(['source', 'arm', 'arm_output'])\n",
      "Creating instance 1 with source key x86 and target key arm\n",
      "Source entry keys: dict_keys(['source', 'x86', 'x86_output'])\n",
      "Target entry keys: dict_keys(['source', 'arm', 'arm_output'])\n",
      "Creating instance 2 with source key x86 and target key arm\n",
      "Source entry keys: dict_keys(['source', 'x86', 'x86_output'])\n",
      "Target entry keys: dict_keys(['source', 'arm', 'arm_output'])\n",
      "Creating instance 3 with source key x86 and target key arm\n",
      "Source entry keys: dict_keys(['source', 'x86', 'x86_output'])\n",
      "Target entry keys: dict_keys(['source', 'arm', 'arm_output'])\n",
      "Creating instance 4 with source key x86 and target key arm\n",
      "Source entry keys: dict_keys(['source', 'x86', 'x86_output'])\n",
      "Target entry keys: dict_keys(['source', 'arm', 'arm_output'])\n",
      "Creating instance 5 with source key x86 and target key arm\n",
      "Source entry keys: dict_keys(['source', 'x86', 'x86_output'])\n",
      "Target entry keys: dict_keys(['source', 'arm', 'arm_output'])\n",
      "Creating instance 6 with source key x86 and target key arm\n",
      "Source entry keys: dict_keys(['source', 'x86', 'x86_output'])\n",
      "Target entry keys: dict_keys(['source', 'arm', 'arm_output'])\n",
      "Creating instance 7 with source key x86 and target key arm\n",
      "Source entry keys: dict_keys(['source', 'x86', 'x86_output'])\n",
      "Target entry keys: dict_keys(['source', 'arm', 'arm_output'])\n",
      "Creating instance 8 with source key x86 and target key arm\n",
      "Source entry keys: dict_keys(['source', 'x86', 'x86_output'])\n",
      "Target entry keys: dict_keys(['source', 'arm', 'arm_output'])\n",
      "Creating instance 9 with source key x86 and target key arm\n",
      "Source entry keys: dict_keys(['source', 'x86', 'x86_output'])\n",
      "Target entry keys: dict_keys(['source', 'arm', 'arm_output'])\n",
      "Creating instance 10 with source key x86 and target key arm\n",
      "Source entry keys: dict_keys(['source', 'x86', 'x86_output'])\n",
      "Target entry keys: dict_keys(['source', 'arm', 'arm_output'])\n",
      "Creating instance 11 with source key x86 and target key arm\n",
      "Source entry keys: dict_keys(['source', 'x86', 'x86_output'])\n",
      "Target entry keys: dict_keys(['source', 'arm', 'arm_output'])\n",
      "Creating instance 12 with source key x86 and target key arm\n",
      "Source entry keys: dict_keys(['source', 'x86', 'x86_output'])\n",
      "Target entry keys: dict_keys(['source', 'arm', 'arm_output'])\n",
      "Creating instance 13 with source key x86 and target key arm\n",
      "Source entry keys: dict_keys(['source', 'x86', 'x86_output'])\n",
      "Target entry keys: dict_keys(['source', 'arm', 'arm_output'])\n",
      "Creating instance 14 with source key x86 and target key arm\n",
      "Source entry keys: dict_keys(['source', 'x86', 'x86_output'])\n",
      "Target entry keys: dict_keys(['source', 'arm', 'arm_output'])\n",
      "Creating instance 15 with source key x86 and target key arm\n",
      "Source entry keys: dict_keys(['source', 'x86', 'x86_output'])\n",
      "Target entry keys: dict_keys(['source', 'arm', 'arm_output'])\n",
      "Creating instance 16 with source key x86 and target key arm\n",
      "Source entry keys: dict_keys(['source', 'x86', 'x86_output'])\n",
      "Target entry keys: dict_keys(['source', 'arm', 'arm_output'])\n",
      "Creating instance 17 with source key x86 and target key arm\n",
      "Source entry keys: dict_keys(['source', 'x86', 'x86_output'])\n",
      "Target entry keys: dict_keys(['source', 'arm', 'arm_output'])\n",
      "Creating instance 18 with source key x86 and target key arm\n",
      "Source entry keys: dict_keys(['source', 'x86', 'x86_output'])\n",
      "Target entry keys: dict_keys(['source', 'arm', 'arm_output'])\n",
      "Creating instance 19 with source key x86 and target key arm\n",
      "Source entry keys: dict_keys(['source', 'x86', 'x86_output'])\n",
      "Target entry keys: dict_keys(['source', 'arm', 'arm_output'])\n",
      "Creating instance 20 with source key x86 and target key arm\n",
      "Source entry keys: dict_keys(['source', 'x86', 'x86_output'])\n",
      "Target entry keys: dict_keys(['source', 'arm', 'arm_output'])\n",
      "Creating instance 21 with source key x86 and target key arm\n",
      "Source entry keys: dict_keys(['source', 'x86', 'x86_output'])\n",
      "Target entry keys: dict_keys(['source', 'arm', 'arm_output'])\n",
      "Creating instance 22 with source key x86 and target key arm\n",
      "Source entry keys: dict_keys(['source', 'x86', 'x86_output'])\n",
      "Target entry keys: dict_keys(['source', 'arm', 'arm_output'])\n",
      "Creating instance 23 with source key x86 and target key arm\n",
      "Source entry keys: dict_keys(['source', 'x86', 'x86_output'])\n",
      "Target entry keys: dict_keys(['source', 'arm', 'arm_output'])\n",
      "Creating instance 24 with source key x86 and target key arm\n",
      "Source entry keys: dict_keys(['source', 'x86', 'x86_output'])\n",
      "Target entry keys: dict_keys(['source', 'arm', 'arm_output'])\n",
      "Creating instance 25 with source key x86 and target key arm\n",
      "Source entry keys: dict_keys(['source', 'x86', 'x86_output'])\n",
      "Target entry keys: dict_keys(['source', 'arm', 'arm_output'])\n",
      "Creating instance 26 with source key x86 and target key arm\n",
      "Source entry keys: dict_keys(['source', 'x86', 'x86_output'])\n",
      "Target entry keys: dict_keys(['source', 'arm', 'arm_output'])\n",
      "Creating instance 27 with source key x86 and target key arm\n",
      "Source entry keys: dict_keys(['source', 'x86', 'x86_output'])\n",
      "Target entry keys: dict_keys(['source', 'arm', 'arm_output'])\n",
      "Creating instance 28 with source key x86 and target key arm\n",
      "Source entry keys: dict_keys(['source', 'x86', 'x86_output'])\n",
      "Target entry keys: dict_keys(['source', 'arm', 'arm_output'])\n",
      "Creating instance 29 with source key x86 and target key arm\n",
      "Source entry keys: dict_keys(['source', 'x86', 'x86_output'])\n",
      "Target entry keys: dict_keys(['source', 'arm', 'arm_output'])\n",
      "Creating instance 30 with source key x86 and target key arm\n",
      "Source entry keys: dict_keys(['source', 'x86', 'x86_output'])\n",
      "Target entry keys: dict_keys(['source', 'arm', 'arm_output'])\n",
      "Created 31 instances\n"
     ]
    }
   ],
   "source": [
    "from src.guess.guess import ConfigType, Guess, Config\n",
    "from src.domain.datasets.UnixCommandDataset import UnixCommandDataset  # Register dataset\n",
    "from src.domain.datasets.ProjectEulerDataset import ProjectEulerDataset\n",
    "from src.domain.datasets.BringUpDataset import BringUpDataset\n",
    "from src.domain.datasets.HumanEvalDataset import HumanEvalDataset\n",
    "\n",
    "prediction = None\n",
    "\n",
    "config = Config(ConfigType.QWEN_X862ARM64.get_path())\n",
    "guess = Guess(config=config)\n",
    "\n",
    "data_loader = guess.data_loader.iter()\n",
    "\n",
    "data_loader.__next__()\n",
    "\n",
    "test_instance = data_loader.__next__()\n",
    "\n",
    "result = guess.model.predict(test_instance, guess.inference_cfg)"
   ]
  },
  {
   "cell_type": "code",
   "execution_count": 6,
   "metadata": {},
   "outputs": [
    {
     "name": "stdout",
     "output_type": "stream",
     "text": [
      "1394\n",
      "1394\n",
      "654\n",
      "1394\n"
     ]
    }
   ],
   "source": [
    "print(len(result.alignments))\n",
    "print(len(result.confidence))\n",
    "print(len(result.source[0]))\n",
    "print(len(result.pred[0]))"
   ]
  },
  {
   "cell_type": "code",
   "execution_count": 7,
   "metadata": {},
   "outputs": [],
   "source": [
    "from src.sketch.sketch import Sketch\n",
    "\n",
    "sketch = Sketch(config, guess.model)"
   ]
  },
  {
   "cell_type": "code",
   "execution_count": 18,
   "metadata": {},
   "outputs": [],
   "source": [
    "from src.sketch.fixes import fix_duplicate_sections, fix_missing_sections"
   ]
  },
  {
   "cell_type": "code",
   "execution_count": 19,
   "metadata": {},
   "outputs": [
    {
     "name": "stdout",
     "output_type": "stream",
     "text": [
      "Missing section: LBB1_1\n",
      "Missing section: LBB1_1\n",
      "Missing section: LBB1_1\n",
      "Missing section: LBB1_1\n",
      "Missing section: LBB1_1\n",
      "Missing section: LBB1_1\n",
      "Missing section: LBB1_1\n",
      "Missing section: LBB1_1\n",
      "Missing section: LBB1_1\n",
      "Missing section: LBB1_1\n",
      "Missing section: LBB1_1\n",
      "Missing section: LBB1_1\n",
      "Missing section: LBB1_1\n",
      "Missing section: LBB1_1\n",
      "Missing section: LBB1_1\n"
     ]
    }
   ],
   "source": [
    "fixed_pred = fix_missing_sections(sketch, result)"
   ]
  }
 ],
 "metadata": {
  "kernelspec": {
   "display_name": "Python 3",
   "language": "python",
   "name": "python3"
  },
  "language_info": {
   "codemirror_mode": {
    "name": "ipython",
    "version": 3
   },
   "file_extension": ".py",
   "mimetype": "text/x-python",
   "name": "python",
   "nbconvert_exporter": "python",
   "pygments_lexer": "ipython3",
   "version": "3.11.12"
  }
 },
 "nbformat": 4,
 "nbformat_minor": 2
}
