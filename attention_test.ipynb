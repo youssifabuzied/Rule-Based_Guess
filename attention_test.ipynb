{
 "cells": [
  {
   "cell_type": "code",
   "execution_count": 1,
   "metadata": {},
   "outputs": [
    {
     "name": "stderr",
     "output_type": "stream",
     "text": [
      "/opt/homebrew/lib/python3.11/site-packages/tqdm/auto.py:21: TqdmWarning: IProgress not found. Please update jupyter and ipywidgets. See https://ipywidgets.readthedocs.io/en/stable/user_install.html\n",
      "  from .autonotebook import tqdm as notebook_tqdm\n"
     ]
    },
    {
     "name": "stdout",
     "output_type": "stream",
     "text": [
      "Loading BART model: celinelee/bartlarge_risctoarm_cloze2048\n"
     ]
    },
    {
     "name": "stderr",
     "output_type": "stream",
     "text": [
      "2025-04-22 09:32:53,607 - BartLargeModel - INFO - Initialized BartLargeModel on device: mps\n"
     ]
    },
    {
     "name": "stdout",
     "output_type": "stream",
     "text": [
      "Source JSONL: data/processed/RISCV/UnixCommands_risc.jsonl\n",
      "Target JSONL: data/processed/ARM64/UnixCommands_arm.jsonl\n",
      "Loading file: data/processed/RISCV/UnixCommands_risc.jsonl\n",
      "Loaded 11 entries from data/processed/RISCV/UnixCommands_risc.jsonl\n",
      "Loading file: data/processed/ARM64/UnixCommands_arm.jsonl\n",
      "Loaded 11 entries from data/processed/ARM64/UnixCommands_arm.jsonl\n"
     ]
    }
   ],
   "source": [
    "from src.guess.guess import ConfigType, Guess, Config\n",
    "from src.domain.datasets.UnixCommandDataset import UnixCommandDataset  # Register dataset\n",
    "from src.domain.datasets.ProjectEulerDataset import ProjectEulerDataset\n",
    "\n",
    "prediction = None\n",
    "\n",
    "config = Config(ConfigType.BART_RISC2ARM.get_path())\n",
    "guess = Guess(config=config)"
   ]
  },
  {
   "cell_type": "code",
   "execution_count": 2,
   "metadata": {},
   "outputs": [
    {
     "name": "stderr",
     "output_type": "stream",
     "text": [
      "2025-04-22 09:32:53,614 - src.helpers.dataset - INFO - Loaded 11 instances\n",
      "2025-04-22 09:32:53,614 - src.helpers.data_loader - INFO - Loaded 11 samples from dataset\n"
     ]
    },
    {
     "name": "stdout",
     "output_type": "stream",
     "text": [
      "Source entries: 11\n",
      "Target entries: 11\n",
      "Creating instance 0 with source key risc and target key arm\n",
      "Source entry keys: dict_keys(['source', 'risc', 'risc_output', 'risc_verbose'])\n",
      "Target entry keys: dict_keys(['source', 'arm', 'arm_output', 'arm_verbose'])\n",
      "Creating instance 1 with source key risc and target key arm\n",
      "Source entry keys: dict_keys(['source', 'risc', 'risc_output', 'risc_verbose'])\n",
      "Target entry keys: dict_keys(['source', 'arm', 'arm_output', 'arm_verbose'])\n",
      "Creating instance 2 with source key risc and target key arm\n",
      "Source entry keys: dict_keys(['source', 'risc', 'risc_output', 'risc_verbose'])\n",
      "Target entry keys: dict_keys(['source', 'arm', 'arm_output', 'arm_verbose'])\n",
      "Creating instance 3 with source key risc and target key arm\n",
      "Source entry keys: dict_keys(['source', 'risc', 'risc_output', 'risc_verbose'])\n",
      "Target entry keys: dict_keys(['source', 'arm', 'arm_output', 'arm_verbose'])\n",
      "Creating instance 4 with source key risc and target key arm\n",
      "Source entry keys: dict_keys(['source', 'risc', 'risc_output', 'risc_verbose'])\n",
      "Target entry keys: dict_keys(['source', 'arm', 'arm_output', 'arm_verbose'])\n",
      "Creating instance 5 with source key risc and target key arm\n",
      "Source entry keys: dict_keys(['source', 'risc', 'risc_output', 'risc_verbose'])\n",
      "Target entry keys: dict_keys(['source', 'arm', 'arm_output', 'arm_verbose'])\n",
      "Creating instance 6 with source key risc and target key arm\n",
      "Source entry keys: dict_keys(['source', 'risc', 'risc_output', 'risc_verbose'])\n",
      "Target entry keys: dict_keys(['source', 'arm', 'arm_output', 'arm_verbose'])\n",
      "Creating instance 7 with source key risc and target key arm\n",
      "Source entry keys: dict_keys(['source', 'risc', 'risc_output', 'risc_verbose'])\n",
      "Target entry keys: dict_keys(['source', 'arm', 'arm_output', 'arm_verbose'])\n",
      "Creating instance 8 with source key risc and target key arm\n",
      "Source entry keys: dict_keys(['source', 'risc', 'risc_output', 'risc_verbose'])\n",
      "Target entry keys: dict_keys(['source', 'arm', 'arm_output', 'arm_verbose'])\n",
      "Creating instance 9 with source key risc and target key arm\n",
      "Source entry keys: dict_keys(['source', 'risc', 'risc_output', 'risc_verbose'])\n",
      "Target entry keys: dict_keys(['source', 'arm', 'arm_output', 'arm_verbose'])\n",
      "Creating instance 10 with source key risc and target key arm\n",
      "Source entry keys: dict_keys(['source', 'risc', 'risc_output', 'risc_verbose'])\n",
      "Target entry keys: dict_keys(['source', 'arm', 'arm_output', 'arm_verbose'])\n",
      "Created 11 instances\n",
      "DatasetInstance(instance_id='UnixCommands/cat', source_lang=<AssemblyLanguage.RISCV: 'riscv'>, target_lang=<AssemblyLanguage.ARM64: 'arm64'>, source='\\t.file\\t\"cat.c\"\\n\\t.option pic\\n\\t.text\\n\\t.align\\t1\\n\\t.globl\\tmain\\n\\t.type\\tmain, @function\\nmain:\\n\\taddi\\tsp,sp,-160\\n\\tsd\\tra,152(sp)\\n\\tsd\\ts0,144(sp)\\n\\taddi\\ts0,sp,160\\n\\tmv\\ta5,a0\\n\\tsd\\ta1,-160(s0)\\n\\tsw\\ta5,-148(s0)\\n\\tla\\ta5,__stack_chk_guard\\n\\tld\\ta4, 0(a5)\\n\\tsd\\ta4, -24(s0)\\n\\tli\\ta4, 0\\n\\tld\\ta5,-160(s0)\\n\\taddi\\ta5,a5,8\\n\\tld\\ta5,0(a5)\\n\\tli\\ta1,0\\n\\tmv\\ta0,a5\\n\\tcall\\topen@plt\\n\\tmv\\ta5,a0\\n\\tsw\\ta5,-136(s0)\\n\\tj\\t.L2\\n.L3:\\n\\tlw\\ta4,-132(s0)\\n\\taddi\\ta5,s0,-128\\n\\tmv\\ta2,a4\\n\\tmv\\ta1,a5\\n\\tli\\ta0,1\\n\\tcall\\twrite@plt\\n.L2:\\n\\taddi\\ta4,s0,-128\\n\\tlw\\ta5,-136(s0)\\n\\tli\\ta2,99\\n\\tmv\\ta1,a4\\n\\tmv\\ta0,a5\\n\\tcall\\tread@plt\\n\\tmv\\ta5,a0\\n\\tsw\\ta5,-132(s0)\\n\\tlw\\ta5,-132(s0)\\n\\tsext.w\\ta5,a5\\n\\tbne\\ta5,zero,.L3\\n\\tli\\ta0,10\\n\\tcall\\tputchar@plt\\n\\tlw\\ta5,-136(s0)\\n\\tmv\\ta0,a5\\n\\tcall\\tclose@plt\\n\\tli\\ta5,0\\n\\tmv\\ta4,a5\\n\\tla\\ta5,__stack_chk_guard\\n\\tld\\ta3, -24(s0)\\n\\tld\\ta5, 0(a5)\\n\\txor\\ta5, a3, a5\\n\\tli\\ta3, 0\\n\\tbeq\\ta5,zero,.L5\\n\\tcall\\t__stack_chk_fail@plt\\n.L5:\\n\\tmv\\ta0,a4\\n\\tld\\tra,152(sp)\\n\\tld\\ts0,144(sp)\\n\\taddi\\tsp,sp,160\\n\\tjr\\tra\\n\\t.size\\tmain, .-main\\n\\t.ident\\t\"GCC: (Ubuntu 11.4.0-1ubuntu1~22.04) 11.4.0\"\\n\\t.section\\t.note.GNU-stack,\"\",@progbits\\n', target='\\t.arch armv8-a\\n\\t.file\\t\"cat.c\"\\n\\t.text\\n\\t.align\\t2\\n\\t.global\\tmain\\n\\t.type\\tmain, %function\\nmain:\\n.LFB6:\\n\\t.cfi_startproc\\n\\tstp\\tx29, x30, [sp, -160]!\\n\\t.cfi_def_cfa_offset 160\\n\\t.cfi_offset 29, -160\\n\\t.cfi_offset 30, -152\\n\\tmov\\tx29, sp\\n\\tstr\\tw0, [sp, 28]\\n\\tstr\\tx1, [sp, 16]\\n\\tadrp\\tx0, :got:__stack_chk_guard\\n\\tldr\\tx0, [x0, #:got_lo12:__stack_chk_guard]\\n\\tldr\\tx1, [x0]\\n\\tstr\\tx1, [sp, 152]\\n\\tmov\\tx1, 0\\n\\tldr\\tx0, [sp, 16]\\n\\tadd\\tx0, x0, 8\\n\\tldr\\tx0, [x0]\\n\\tmov\\tw1, 0\\n\\tbl\\topen\\n\\tstr\\tw0, [sp, 40]\\n\\tb\\t.L2\\n.L3:\\n\\tldrsw\\tx1, [sp, 44]\\n\\tadd\\tx0, sp, 48\\n\\tmov\\tx2, x1\\n\\tmov\\tx1, x0\\n\\tmov\\tw0, 1\\n\\tbl\\twrite\\n.L2:\\n\\tadd\\tx0, sp, 48\\n\\tmov\\tx2, 99\\n\\tmov\\tx1, x0\\n\\tldr\\tw0, [sp, 40]\\n\\tbl\\tread\\n\\tstr\\tw0, [sp, 44]\\n\\tldr\\tw0, [sp, 44]\\n\\tcmp\\tw0, 0\\n\\tbne\\t.L3\\n\\tmov\\tw0, 10\\n\\tbl\\tputchar\\n\\tldr\\tw0, [sp, 40]\\n\\tbl\\tclose\\n\\tmov\\tw0, 0\\n\\tmov\\tw1, w0\\n\\tadrp\\tx0, :got:__stack_chk_guard\\n\\tldr\\tx0, [x0, #:got_lo12:__stack_chk_guard]\\n\\tldr\\tx3, [sp, 152]\\n\\tldr\\tx2, [x0]\\n\\tsubs\\tx3, x3, x2\\n\\tmov\\tx2, 0\\n\\tbeq\\t.L5\\n\\tbl\\t__stack_chk_fail\\n.L5:\\n\\tmov\\tw0, w1\\n\\tldp\\tx29, x30, [sp], 160\\n\\t.cfi_restore 30\\n\\t.cfi_restore 29\\n\\t.cfi_def_cfa_offset 0\\n\\tret\\n\\t.cfi_endproc\\n.LFE6:\\n\\t.size\\tmain, .-main\\n\\t.ident\\t\"GCC: (Ubuntu 11.4.0-1ubuntu1~22.04) 11.4.0\"\\n\\t.section\\t.note.GNU-stack,\"\",@progbits\\n', metadata={'source_file': 'cat', 'c_source': '', 'source_output': '', 'target_output': ''})\n"
     ]
    }
   ],
   "source": [
    "test_instance = guess.data_loader.iter().__next__()\n",
    "print(test_instance)\n"
   ]
  },
  {
   "cell_type": "code",
   "execution_count": 3,
   "metadata": {},
   "outputs": [],
   "source": [
    "import pickle\n",
    "import os\n",
    "\n",
    "if os.path.exists(\"test_pred.pkl\"):\n",
    "    with open(\"test_pred.pkl\", \"rb\") as f:\n",
    "        test_pred = pickle.load(f)\n",
    "else:\n",
    "    test_pred = guess.model.predict(test_instance, guess.inference_cfg)\n",
    "    with open(\"test_pred.pkl\", \"wb\") as f:\n",
    "        pickle.dump(test_pred, f)"
   ]
  },
  {
   "cell_type": "code",
   "execution_count": 4,
   "metadata": {},
   "outputs": [],
   "source": [
    "from src.sketch.sketch import Sketch\n",
    "\n",
    "sketch = Sketch(config, guess.model)"
   ]
  },
  {
   "cell_type": "code",
   "execution_count": 5,
   "metadata": {},
   "outputs": [],
   "source": [
    "import pandas as pd\n",
    "from IPython.display import HTML, display\n",
    "\n",
    "def html_escape(text):\n",
    "    # Convert special characters to HTML-safe versions\n",
    "    return (text.replace(\"&\", \"&amp;\")\n",
    "                .replace(\"<\", \"&lt;\")\n",
    "                .replace(\">\", \"&gt;\")\n",
    "                .replace(\"\\n\", \"<br>\")\n",
    "                .replace(\"\\t\", \"&nbsp;&nbsp;&nbsp;&nbsp;\"))  # 4 spaces for a tab\n",
    "\n",
    "def display_blocks(blocks, pred):\n",
    "    data = []\n",
    "\n",
    "    for block in blocks:\n",
    "        source_text = sketch.model.tokenizer.decode(\n",
    "            pred.source[0][block.source_start:block.source_end]\n",
    "        )\n",
    "        pred_text = sketch.model.tokenizer.decode(\n",
    "            pred.pred[0][block.pred_start:block.pred_end]\n",
    "        )\n",
    "        data.append({\n",
    "            'SOURCE': html_escape(source_text),\n",
    "            'PRED': html_escape(pred_text)\n",
    "        })\n",
    "\n",
    "    df = pd.DataFrame(data)\n",
    "\n",
    "    styles = \"\"\"\n",
    "    <style>\n",
    "    table {\n",
    "        table-layout: auto;\n",
    "        word-wrap: break-word;\n",
    "    }\n",
    "    td {\n",
    "        white-space: normal !important;\n",
    "        font-family: monospace;\n",
    "        vertical-align: top;\n",
    "    }\n",
    "    </style>\n",
    "    \"\"\"\n",
    "    display(HTML(styles + df.to_html(escape=False)))\n"
   ]
  },
  {
   "cell_type": "code",
   "execution_count": 9,
   "metadata": {},
   "outputs": [
    {
     "name": "stdout",
     "output_type": "stream",
     "text": [
      "[PureInstructionBlock(source_start=45, source_end=55, pred_start=71, pred_end=80), PureInstructionBlock(source_start=118, source_end=126, pred_start=173, pred_end=182), PureInstructionBlock(source_start=138, source_end=150, pred_start=195, pred_end=206), PureInstructionBlock(source_start=162, source_end=170, pred_start=218, pred_end=227), PureInstructionBlock(source_start=235, source_end=247, pred_start=256, pred_end=266), PureInstructionBlock(source_start=257, source_end=275, pred_start=279, pred_end=298), PureInstructionBlock(source_start=288, source_end=300, pred_start=308, pred_end=318), PureInstructionBlock(source_start=313, source_end=331, pred_start=318, pred_end=337), PureInstructionBlock(source_start=408, source_end=416, pred_start=396, pred_end=405), PureInstructionBlock(source_start=456, source_end=474, pred_start=429, pred_end=448), PureInstructionBlock(source_start=526, source_end=534, pred_start=531, pred_end=540), PureInstructionBlock(source_start=565, source_end=575, pred_start=564, pred_end=574)]\n"
     ]
    },
    {
     "data": {
      "text/html": [
       "\n",
       "    <style>\n",
       "    table {\n",
       "        table-layout: auto;\n",
       "        word-wrap: break-word;\n",
       "    }\n",
       "    td {\n",
       "        white-space: normal !important;\n",
       "        font-family: monospace;\n",
       "        vertical-align: top;\n",
       "    }\n",
       "    </style>\n",
       "    <table border=\"1\" class=\"dataframe\">\n",
       "  <thead>\n",
       "    <tr style=\"text-align: right;\">\n",
       "      <th></th>\n",
       "      <th>SOURCE</th>\n",
       "      <th>PRED</th>\n",
       "    </tr>\n",
       "  </thead>\n",
       "  <tbody>\n",
       "    <tr>\n",
       "      <th>0</th>\n",
       "      <td><br>&nbsp;&nbsp;&nbsp;&nbsp;mv&nbsp;&nbsp;&nbsp;&nbsp;a5,a0</td>\n",
       "      <td><br>&nbsp;&nbsp;&nbsp;&nbsp;mov&nbsp;&nbsp;&nbsp;&nbsp;x29, sp</td>\n",
       "    </tr>\n",
       "    <tr>\n",
       "      <th>1</th>\n",
       "      <td><br>&nbsp;&nbsp;&nbsp;&nbsp;li&nbsp;&nbsp;&nbsp;&nbsp;a4, 0</td>\n",
       "      <td><br>&nbsp;&nbsp;&nbsp;&nbsp;mov&nbsp;&nbsp;&nbsp;&nbsp;x1, 0</td>\n",
       "    </tr>\n",
       "    <tr>\n",
       "      <th>2</th>\n",
       "      <td><br>&nbsp;&nbsp;&nbsp;&nbsp;addi&nbsp;&nbsp;&nbsp;&nbsp;a5,a5,8</td>\n",
       "      <td><br>&nbsp;&nbsp;&nbsp;&nbsp;add&nbsp;&nbsp;&nbsp;&nbsp;x0, x0, 8</td>\n",
       "    </tr>\n",
       "    <tr>\n",
       "      <th>3</th>\n",
       "      <td><br>&nbsp;&nbsp;&nbsp;&nbsp;li&nbsp;&nbsp;&nbsp;&nbsp;a1,0</td>\n",
       "      <td><br>&nbsp;&nbsp;&nbsp;&nbsp;mov&nbsp;&nbsp;&nbsp;&nbsp;w1, 0</td>\n",
       "    </tr>\n",
       "    <tr>\n",
       "      <th>4</th>\n",
       "      <td><br>&nbsp;&nbsp;&nbsp;&nbsp;addi&nbsp;&nbsp;&nbsp;&nbsp;a5,s0,-128</td>\n",
       "      <td><br>&nbsp;&nbsp;&nbsp;&nbsp;add&nbsp;&nbsp;&nbsp;&nbsp;x0, sp, 48</td>\n",
       "    </tr>\n",
       "    <tr>\n",
       "      <th>5</th>\n",
       "      <td><br>&nbsp;&nbsp;&nbsp;&nbsp;mv&nbsp;&nbsp;&nbsp;&nbsp;a1,a5<br>&nbsp;&nbsp;&nbsp;&nbsp;li&nbsp;&nbsp;&nbsp;&nbsp;a0,1</td>\n",
       "      <td><br>&nbsp;&nbsp;&nbsp;&nbsp;mov&nbsp;&nbsp;&nbsp;&nbsp;x1, x0<br>&nbsp;&nbsp;&nbsp;&nbsp;mov&nbsp;&nbsp;&nbsp;&nbsp;w0, 1</td>\n",
       "    </tr>\n",
       "    <tr>\n",
       "      <th>6</th>\n",
       "      <td><br>&nbsp;&nbsp;&nbsp;&nbsp;addi&nbsp;&nbsp;&nbsp;&nbsp;a4,s0,-128</td>\n",
       "      <td><br>&nbsp;&nbsp;&nbsp;&nbsp;add&nbsp;&nbsp;&nbsp;&nbsp;x0, sp, 48</td>\n",
       "    </tr>\n",
       "    <tr>\n",
       "      <th>7</th>\n",
       "      <td><br>&nbsp;&nbsp;&nbsp;&nbsp;li&nbsp;&nbsp;&nbsp;&nbsp;a2,99<br>&nbsp;&nbsp;&nbsp;&nbsp;mv&nbsp;&nbsp;&nbsp;&nbsp;a1,a4</td>\n",
       "      <td><br>&nbsp;&nbsp;&nbsp;&nbsp;mov&nbsp;&nbsp;&nbsp;&nbsp;x2, 99<br>&nbsp;&nbsp;&nbsp;&nbsp;mov&nbsp;&nbsp;&nbsp;&nbsp;x1, x0</td>\n",
       "    </tr>\n",
       "    <tr>\n",
       "      <th>8</th>\n",
       "      <td><br>&nbsp;&nbsp;&nbsp;&nbsp;li&nbsp;&nbsp;&nbsp;&nbsp;a0,10</td>\n",
       "      <td><br>&nbsp;&nbsp;&nbsp;&nbsp;mov&nbsp;&nbsp;&nbsp;&nbsp;w0, 10</td>\n",
       "    </tr>\n",
       "    <tr>\n",
       "      <th>9</th>\n",
       "      <td><br>&nbsp;&nbsp;&nbsp;&nbsp;li&nbsp;&nbsp;&nbsp;&nbsp;a5,0<br>&nbsp;&nbsp;&nbsp;&nbsp;mv&nbsp;&nbsp;&nbsp;&nbsp;a4,a5</td>\n",
       "      <td><br>&nbsp;&nbsp;&nbsp;&nbsp;mov&nbsp;&nbsp;&nbsp;&nbsp;w0, 0<br>&nbsp;&nbsp;&nbsp;&nbsp;mov&nbsp;&nbsp;&nbsp;&nbsp;w1, w0</td>\n",
       "    </tr>\n",
       "    <tr>\n",
       "      <th>10</th>\n",
       "      <td><br>&nbsp;&nbsp;&nbsp;&nbsp;li&nbsp;&nbsp;&nbsp;&nbsp;a3, 0</td>\n",
       "      <td><br>&nbsp;&nbsp;&nbsp;&nbsp;mov&nbsp;&nbsp;&nbsp;&nbsp;x2, 0</td>\n",
       "    </tr>\n",
       "    <tr>\n",
       "      <th>11</th>\n",
       "      <td><br>&nbsp;&nbsp;&nbsp;&nbsp;mv&nbsp;&nbsp;&nbsp;&nbsp;a0,a4</td>\n",
       "      <td><br>&nbsp;&nbsp;&nbsp;&nbsp;mov&nbsp;&nbsp;&nbsp;&nbsp;w0, w1</td>\n",
       "    </tr>\n",
       "  </tbody>\n",
       "</table>"
      ],
      "text/plain": [
       "<IPython.core.display.HTML object>"
      ]
     },
     "metadata": {},
     "output_type": "display_data"
    }
   ],
   "source": [
    "# test_pred = predictions_test['UnixCommands/cat']\n",
    "line_mappings = sketch.map_predicted_lines_to_source_lines(\n",
    "    test_pred.source,\n",
    "    test_pred.pred,\n",
    "    test_pred.alignments\n",
    ")\n",
    "\n",
    "blocks = sketch.extract_pure_instruction_blocks(\n",
    "    test_pred.source, test_pred.pred, line_mappings\n",
    ")\n",
    "\n",
    "print(blocks)\n",
    "\n",
    "display_blocks(blocks, test_pred)"
   ]
  },
  {
   "cell_type": "code",
   "execution_count": 7,
   "metadata": {},
   "outputs": [
    {
     "name": "stdout",
     "output_type": "stream",
     "text": [
      "UnixCommands/cat\n",
      "Ratio of invalid_blocks: 0.0\n",
      "Ratio of non_equivalent_blocks: 0.16666666666666666\n"
     ]
    }
   ],
   "source": [
    "results = sketch.sketch({\"test_pred\": test_pred})\n",
    "\n",
    "for pred_result, sketch_result in results:\n",
    "    print(pred_result.instance_id)\n",
    "    print(f\"Ratio of invalid_blocks: {len(sketch_result.invalid_blocks)/len(sketch_result.total_blocks)}\")\n",
    "    print(f\"Ratio of non_equivalent_blocks: {len(sketch_result.non_equivalent_blocks)/len(sketch_result.total_blocks)}\")"
   ]
  },
  {
   "cell_type": "code",
   "execution_count": 10,
   "metadata": {},
   "outputs": [
    {
     "name": "stdout",
     "output_type": "stream",
     "text": [
      "main:\n",
      ".LFB6:\n",
      "\t.cfi_startproc\n",
      "\tstp\tx29, x30, [sp, -160]!\n",
      "\t.cfi_def_cfa_offset 160\n",
      "\t.cfi_offset 29, -160\n",
      "\t.cfi_offset 30, -152\n",
      "\tmov\tx29, sp\n",
      "\tstr\tw0, [sp, 28]\n",
      "\tstr\tx1, [sp, 16]\n",
      "\tadrp\tx0, :got:__stack_chk_guard\n",
      "\tldr\tx0, [x0, #:got_lo12:__stack_chk_guard]\n",
      "\tldr\tx1, [x0]\n",
      "\tstr\tx1, [sp, 152]\n",
      "\tmov\tx1, 0\n",
      "\tldr\tx0, [sp, 16]\n",
      "\tadd\tx0, x0, 8\n",
      "\tldr\tx0, [x0]\n",
      "\tmov\tw1, 0\n",
      "\tbl\topen\n",
      "\tstr\tw0, [sp, 40]\n",
      "\tb\t.L2\n",
      ".L3:\n",
      "\tadd\tx0, sp, 48\n",
      "\tldr\tw2, [sp, 44]\n",
      "\tmov\tx1, x0\n",
      "\tmov\tw0, 1\n",
      "\tbl\twrite\n",
      ".L2:\n",
      "\tadd\tx0, sp, 48\n",
      "\tmov\tx2, 99\n",
      "\tmov\tx1, x0\n",
      "\tldr\tw0, [sp, 40]\n",
      "\tbl\tread\n",
      "\tstr\tw0, [sp, 44]\n",
      "\tldr\tw0, [sp, 44]\n",
      "\tcmp\tw0, 0\n",
      "\tbne\t.L3\n",
      "\tmov\tw0, 10\n",
      "\tbl\tputchar\n",
      "\tldr\tw0, [sp, 40]\n",
      "\tbl\tclose\n",
      "\tmov\tw0, 0\n",
      "\tmov\tw1, w0\n",
      "\tadrp\tx0, :got:__stack_chk_guard\n",
      "\tldr\tx0, [x0, #:got_lo12:__stack_chk_guard]\n",
      "\tldr\tx3, [sp, 152]\n",
      "\tldr\tx2, [x0]\n",
      "\tsubs\tx3, x3, x2\n",
      "\tmov\tx2, 0\n",
      "\tbeq\t.L5\n",
      "\tbl\t__stack_chk_fail\n",
      ".L5:\n",
      "\tmov\tw0, w1\n",
      "\tldp\tx29, x30, [sp], 160\n",
      "\t.cfi_restore 30\n",
      "\t.cfi_restore 29\n",
      "\t.cfi_def_cfa_offset 0\n",
      "\tret\n",
      "\t.cfi_endproc\n",
      "\t.arch armv8-a\n",
      "\t.file\t\"program.c\"\n",
      "\t.c\"\n",
      "\t.text\n",
      "\t.align\t2\n",
      "\t.global\tmain\n",
      "\t.type\tmain, %function\n",
      "{main}.LFE0:\n",
      "\t.size\tmain, .-main\n",
      "\t.section\t.rodata\n",
      "\t.align\t4\n",
      "\n",
      ".LC0:\n",
      "\t.word\t0\n",
      "\t.word\t0\n",
      "\t.word\t1\n",
      "\t.ident\t\"GCC: (Ubuntu 11.3.0-1ubuntu1~22.04) 11.3.0\"\n",
      "\t.section\t.note.GNU-stack,\"\",@progbits\n",
      "\n"
     ]
    }
   ],
   "source": [
    "print(sketch.model.decode(test_pred.pred))"
   ]
  }
 ],
 "metadata": {
  "kernelspec": {
   "display_name": "Python 3",
   "language": "python",
   "name": "python3"
  },
  "language_info": {
   "codemirror_mode": {
    "name": "ipython",
    "version": 3
   },
   "file_extension": ".py",
   "mimetype": "text/x-python",
   "name": "python",
   "nbconvert_exporter": "python",
   "pygments_lexer": "ipython3",
   "version": "3.11.10"
  }
 },
 "nbformat": 4,
 "nbformat_minor": 2
}
