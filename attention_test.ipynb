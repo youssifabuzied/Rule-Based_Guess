{
 "cells": [
  {
   "cell_type": "code",
   "execution_count": 1,
   "metadata": {},
   "outputs": [
    {
     "name": "stderr",
     "output_type": "stream",
     "text": [
      "/opt/homebrew/lib/python3.11/site-packages/tqdm/auto.py:21: TqdmWarning: IProgress not found. Please update jupyter and ipywidgets. See https://ipywidgets.readthedocs.io/en/stable/user_install.html\n",
      "  from .autonotebook import tqdm as notebook_tqdm\n",
      "2025-05-05 00:50:36,850 - src.domain.models.QwenModel - INFO - Initializing QwenModel with ahmedheakl/asm2asm_1.5b_armv8_o0 on device mps\n"
     ]
    },
    {
     "name": "stdout",
     "output_type": "stream",
     "text": [
      "Loading Qwen model: ahmedheakl/asm2asm_1.5b_armv8_o0\n"
     ]
    },
    {
     "name": "stderr",
     "output_type": "stream",
     "text": [
      "2025-05-05 00:50:39,539 - QwenModel - INFO - Initialized QwenModel on device: mps:0\n",
      "2025-05-05 00:50:39,541 - src.domain.models.QwenModel - INFO - Model initialization completed in 2.69 seconds\n"
     ]
    },
    {
     "name": "stdout",
     "output_type": "stream",
     "text": [
      "Source JSONL: data/processed/X86/BringUp_x86.jsonl\n",
      "Target JSONL: data/processed/ARM64/BringUp_arm.jsonl\n",
      "Loading file: data/processed/X86/BringUp_x86.jsonl\n",
      "Loaded 31 entries from data/processed/X86/BringUp_x86.jsonl\n",
      "Loading file: data/processed/ARM64/BringUp_arm.jsonl\n",
      "Loaded 31 entries from data/processed/ARM64/BringUp_arm.jsonl\n"
     ]
    }
   ],
   "source": [
    "from src.guess.guess import ConfigType, Guess, Config\n",
    "from src.domain.datasets.UnixCommandDataset import UnixCommandDataset  # Register dataset\n",
    "from src.domain.datasets.ProjectEulerDataset import ProjectEulerDataset\n",
    "from src.domain.datasets.BringUpDataset import BringUpDataset\n",
    "\n",
    "prediction = None\n",
    "\n",
    "config = Config(ConfigType.QWEN_X862ARM64.get_path())\n",
    "guess = Guess(config=config)"
   ]
  },
  {
   "cell_type": "code",
   "execution_count": 2,
   "metadata": {},
   "outputs": [
    {
     "name": "stderr",
     "output_type": "stream",
     "text": [
      "2025-05-05 00:50:39,547 - src.helpers.dataset - INFO - Loaded 31 instances\n",
      "2025-05-05 00:50:39,548 - src.helpers.data_loader - INFO - Loaded 31 samples from dataset\n"
     ]
    },
    {
     "name": "stdout",
     "output_type": "stream",
     "text": [
      "Source entries: 31\n",
      "Target entries: 31\n",
      "Creating instance 0 with source key x86 and target key arm\n",
      "Source entry keys: dict_keys(['source', 'x86', 'x86_output'])\n",
      "Target entry keys: dict_keys(['source', 'arm', 'arm_output'])\n",
      "Creating instance 1 with source key x86 and target key arm\n",
      "Source entry keys: dict_keys(['source', 'x86', 'x86_output'])\n",
      "Target entry keys: dict_keys(['source', 'arm', 'arm_output'])\n",
      "Creating instance 2 with source key x86 and target key arm\n",
      "Source entry keys: dict_keys(['source', 'x86', 'x86_output'])\n",
      "Target entry keys: dict_keys(['source', 'arm', 'arm_output'])\n",
      "Creating instance 3 with source key x86 and target key arm\n",
      "Source entry keys: dict_keys(['source', 'x86', 'x86_output'])\n",
      "Target entry keys: dict_keys(['source', 'arm', 'arm_output'])\n",
      "Creating instance 4 with source key x86 and target key arm\n",
      "Source entry keys: dict_keys(['source', 'x86', 'x86_output'])\n",
      "Target entry keys: dict_keys(['source', 'arm', 'arm_output'])\n",
      "Creating instance 5 with source key x86 and target key arm\n",
      "Source entry keys: dict_keys(['source', 'x86', 'x86_output'])\n",
      "Target entry keys: dict_keys(['source', 'arm', 'arm_output'])\n",
      "Creating instance 6 with source key x86 and target key arm\n",
      "Source entry keys: dict_keys(['source', 'x86', 'x86_output'])\n",
      "Target entry keys: dict_keys(['source', 'arm', 'arm_output'])\n",
      "Creating instance 7 with source key x86 and target key arm\n",
      "Source entry keys: dict_keys(['source', 'x86', 'x86_output'])\n",
      "Target entry keys: dict_keys(['source', 'arm', 'arm_output'])\n",
      "Creating instance 8 with source key x86 and target key arm\n",
      "Source entry keys: dict_keys(['source', 'x86', 'x86_output'])\n",
      "Target entry keys: dict_keys(['source', 'arm', 'arm_output'])\n",
      "Creating instance 9 with source key x86 and target key arm\n",
      "Source entry keys: dict_keys(['source', 'x86', 'x86_output'])\n",
      "Target entry keys: dict_keys(['source', 'arm', 'arm_output'])\n",
      "Creating instance 10 with source key x86 and target key arm\n",
      "Source entry keys: dict_keys(['source', 'x86', 'x86_output'])\n",
      "Target entry keys: dict_keys(['source', 'arm', 'arm_output'])\n",
      "Creating instance 11 with source key x86 and target key arm\n",
      "Source entry keys: dict_keys(['source', 'x86', 'x86_output'])\n",
      "Target entry keys: dict_keys(['source', 'arm', 'arm_output'])\n",
      "Creating instance 12 with source key x86 and target key arm\n",
      "Source entry keys: dict_keys(['source', 'x86', 'x86_output'])\n",
      "Target entry keys: dict_keys(['source', 'arm', 'arm_output'])\n",
      "Creating instance 13 with source key x86 and target key arm\n",
      "Source entry keys: dict_keys(['source', 'x86', 'x86_output'])\n",
      "Target entry keys: dict_keys(['source', 'arm', 'arm_output'])\n",
      "Creating instance 14 with source key x86 and target key arm\n",
      "Source entry keys: dict_keys(['source', 'x86', 'x86_output'])\n",
      "Target entry keys: dict_keys(['source', 'arm', 'arm_output'])\n",
      "Creating instance 15 with source key x86 and target key arm\n",
      "Source entry keys: dict_keys(['source', 'x86', 'x86_output'])\n",
      "Target entry keys: dict_keys(['source', 'arm', 'arm_output'])\n",
      "Creating instance 16 with source key x86 and target key arm\n",
      "Source entry keys: dict_keys(['source', 'x86', 'x86_output'])\n",
      "Target entry keys: dict_keys(['source', 'arm', 'arm_output'])\n",
      "Creating instance 17 with source key x86 and target key arm\n",
      "Source entry keys: dict_keys(['source', 'x86', 'x86_output'])\n",
      "Target entry keys: dict_keys(['source', 'arm', 'arm_output'])\n",
      "Creating instance 18 with source key x86 and target key arm\n",
      "Source entry keys: dict_keys(['source', 'x86', 'x86_output'])\n",
      "Target entry keys: dict_keys(['source', 'arm', 'arm_output'])\n",
      "Creating instance 19 with source key x86 and target key arm\n",
      "Source entry keys: dict_keys(['source', 'x86', 'x86_output'])\n",
      "Target entry keys: dict_keys(['source', 'arm', 'arm_output'])\n",
      "Creating instance 20 with source key x86 and target key arm\n",
      "Source entry keys: dict_keys(['source', 'x86', 'x86_output'])\n",
      "Target entry keys: dict_keys(['source', 'arm', 'arm_output'])\n",
      "Creating instance 21 with source key x86 and target key arm\n",
      "Source entry keys: dict_keys(['source', 'x86', 'x86_output'])\n",
      "Target entry keys: dict_keys(['source', 'arm', 'arm_output'])\n",
      "Creating instance 22 with source key x86 and target key arm\n",
      "Source entry keys: dict_keys(['source', 'x86', 'x86_output'])\n",
      "Target entry keys: dict_keys(['source', 'arm', 'arm_output'])\n",
      "Creating instance 23 with source key x86 and target key arm\n",
      "Source entry keys: dict_keys(['source', 'x86', 'x86_output'])\n",
      "Target entry keys: dict_keys(['source', 'arm', 'arm_output'])\n",
      "Creating instance 24 with source key x86 and target key arm\n",
      "Source entry keys: dict_keys(['source', 'x86', 'x86_output'])\n",
      "Target entry keys: dict_keys(['source', 'arm', 'arm_output'])\n",
      "Creating instance 25 with source key x86 and target key arm\n",
      "Source entry keys: dict_keys(['source', 'x86', 'x86_output'])\n",
      "Target entry keys: dict_keys(['source', 'arm', 'arm_output'])\n",
      "Creating instance 26 with source key x86 and target key arm\n",
      "Source entry keys: dict_keys(['source', 'x86', 'x86_output'])\n",
      "Target entry keys: dict_keys(['source', 'arm', 'arm_output'])\n",
      "Creating instance 27 with source key x86 and target key arm\n",
      "Source entry keys: dict_keys(['source', 'x86', 'x86_output'])\n",
      "Target entry keys: dict_keys(['source', 'arm', 'arm_output'])\n",
      "Creating instance 28 with source key x86 and target key arm\n",
      "Source entry keys: dict_keys(['source', 'x86', 'x86_output'])\n",
      "Target entry keys: dict_keys(['source', 'arm', 'arm_output'])\n",
      "Creating instance 29 with source key x86 and target key arm\n",
      "Source entry keys: dict_keys(['source', 'x86', 'x86_output'])\n",
      "Target entry keys: dict_keys(['source', 'arm', 'arm_output'])\n",
      "Creating instance 30 with source key x86 and target key arm\n",
      "Source entry keys: dict_keys(['source', 'x86', 'x86_output'])\n",
      "Target entry keys: dict_keys(['source', 'arm', 'arm_output'])\n",
      "Created 31 instances\n",
      "DatasetInstance(instance_id='UnixCommands/quine', source_lang=<AssemblyLanguage.X86: 'x86'>, target_lang=<AssemblyLanguage.ARM64: 'arm64'>, source='\\t.file\\t\"quine.c\"\\n\\t.text\\n\\t.section\\t.rodata\\n\\t.align 4\\n.LC0:\\n\\t.string\\t\"#include \\\\\"libmin.h\\\\\"\\\\n#define B(x)int main(){libmin_puts(\\\\\"#include \\\\\\\\\\\\\"libmin.h\\\\\\\\\\\\\"\\\\\\\\n#define B(x)\\\\\"x\\\\\"\\\\\\\\n#define X(s)S(s)\\\\\\\\n#define S(s)#s\\\\\\\\nB(X(B(x)))\\\\\\\\n\\\\\");libmin_success();}\\\\n#define X(s)S(s)\\\\n#define S(s)#s\\\\nB(X(B(x)))\\\\n\"\\n\\t.text\\n\\t.globl\\tmain\\n\\t.type\\tmain, @function\\nmain:\\n.LFB3:\\n\\t.cfi_startproc\\n\\tleal\\t4(%esp), %ecx\\n\\t.cfi_def_cfa 1, 0\\n\\tandl\\t$-16, %esp\\n\\tpushl\\t-4(%ecx)\\n\\tpushl\\t%ebp\\n\\tmovl\\t%esp, %ebp\\n\\t.cfi_escape 0x10,0x5,0x2,0x75,0\\n\\tpushl\\t%ecx\\n\\t.cfi_escape 0xf,0x3,0x75,0x7c,0x6\\n\\tsubl\\t$4, %esp\\n\\tsubl\\t$12, %esp\\n\\tpushl\\t$.LC0\\n\\tcall\\tlibmin_puts\\n\\taddl\\t$16, %esp\\n\\tcall\\tlibmin_success\\n\\tmovl\\t$0, %eax\\n\\tmovl\\t-4(%ebp), %ecx\\n\\t.cfi_def_cfa 1, 0\\n\\tleave\\n\\t.cfi_restore 5\\n\\tleal\\t-4(%ecx), %esp\\n\\t.cfi_def_cfa 4, 4\\n\\tret\\n\\t.cfi_endproc\\n.LFE3:\\n\\t.size\\tmain, .-main\\n\\t.ident\\t\"GCC: (GNU) 13.3.0\"\\n\\t.section\\t.note.GNU-stack,\"\",@progbits\\n', target='\\t.arch armv8-a\\n\\t.file\\t\"quine.c\"\\n\\t.text\\n\\t.section\\t.rodata\\n\\t.align\\t3\\n.LC0:\\n\\t.string\\t\"#include \\\\\"libmin.h\\\\\"\\\\n#define B(x)int main(){libmin_puts(\\\\\"#include \\\\\\\\\\\\\"libmin.h\\\\\\\\\\\\\"\\\\\\\\n#define B(x)\\\\\"x\\\\\"\\\\\\\\n#define X(s)S(s)\\\\\\\\n#define S(s)#s\\\\\\\\nB(X(B(x)))\\\\\\\\n\\\\\");libmin_success();}\\\\n#define X(s)S(s)\\\\n#define S(s)#s\\\\nB(X(B(x)))\\\\n\"\\n\\t.text\\n\\t.align\\t2\\n\\t.global\\tmain\\n\\t.type\\tmain, %function\\nmain:\\n.LFB3:\\n\\t.cfi_startproc\\n\\tstp\\tx29, x30, [sp, -16]!\\n\\t.cfi_def_cfa_offset 16\\n\\t.cfi_offset 29, -16\\n\\t.cfi_offset 30, -8\\n\\tmov\\tx29, sp\\n\\tadrp\\tx0, .LC0\\n\\tadd\\tx0, x0, :lo12:.LC0\\n\\tbl\\tlibmin_puts\\n\\tbl\\tlibmin_success\\n\\tmov\\tw0, 0\\n\\tldp\\tx29, x30, [sp], 16\\n\\t.cfi_restore 30\\n\\t.cfi_restore 29\\n\\t.cfi_def_cfa_offset 0\\n\\tret\\n\\t.cfi_endproc\\n.LFE3:\\n\\t.size\\tmain, .-main\\n\\t.ident\\t\"GCC: (GNU) 13.3.0\"\\n\\t.section\\t.note.GNU-stack,\"\",@progbits\\n', metadata={'source_file': 'quine', 'source_output': '\\t.file\\t\"quine.c\"\\n\\t.text\\n\\t.section\\t.rodata\\n\\t.align 4\\n.LC0:\\n\\t.string\\t\"#include \\\\\"libmin.h\\\\\"\\\\n#define B(x)int main(){libmin_puts(\\\\\"#include \\\\\\\\\\\\\"libmin.h\\\\\\\\\\\\\"\\\\\\\\n#define B(x)\\\\\"x\\\\\"\\\\\\\\n#define X(s)S(s)\\\\\\\\n#define S(s)#s\\\\\\\\nB(X(B(x)))\\\\\\\\n\\\\\");libmin_success();}\\\\n#define X(s)S(s)\\\\n#define S(s)#s\\\\nB(X(B(x)))\\\\n\"\\n\\t.text\\n\\t.globl\\tmain\\n\\t.type\\tmain, @function\\nmain:\\n.LFB3:\\n\\t.cfi_startproc\\n\\tleal\\t4(%esp), %ecx\\n\\t.cfi_def_cfa 1, 0\\n\\tandl\\t$-16, %esp\\n\\tpushl\\t-4(%ecx)\\n\\tpushl\\t%ebp\\n\\tmovl\\t%esp, %ebp\\n\\t.cfi_escape 0x10,0x5,0x2,0x75,0\\n\\tpushl\\t%ecx\\n\\t.cfi_escape 0xf,0x3,0x75,0x7c,0x6\\n\\tsubl\\t$4, %esp\\n\\tsubl\\t$12, %esp\\n\\tpushl\\t$.LC0\\n\\tcall\\tlibmin_puts\\n\\taddl\\t$16, %esp\\n\\tcall\\tlibmin_success\\n\\tmovl\\t$0, %eax\\n\\tmovl\\t-4(%ebp), %ecx\\n\\t.cfi_def_cfa 1, 0\\n\\tleave\\n\\t.cfi_restore 5\\n\\tleal\\t-4(%ecx), %esp\\n\\t.cfi_def_cfa 4, 4\\n\\tret\\n\\t.cfi_endproc\\n.LFE3:\\n\\t.size\\tmain, .-main\\n\\t.ident\\t\"GCC: (GNU) 13.3.0\"\\n\\t.section\\t.note.GNU-stack,\"\",@progbits\\n', 'target_output': '\\t.arch armv8-a\\n\\t.file\\t\"quine.c\"\\n\\t.text\\n\\t.section\\t.rodata\\n\\t.align\\t3\\n.LC0:\\n\\t.string\\t\"#include \\\\\"libmin.h\\\\\"\\\\n#define B(x)int main(){libmin_puts(\\\\\"#include \\\\\\\\\\\\\"libmin.h\\\\\\\\\\\\\"\\\\\\\\n#define B(x)\\\\\"x\\\\\"\\\\\\\\n#define X(s)S(s)\\\\\\\\n#define S(s)#s\\\\\\\\nB(X(B(x)))\\\\\\\\n\\\\\");libmin_success();}\\\\n#define X(s)S(s)\\\\n#define S(s)#s\\\\nB(X(B(x)))\\\\n\"\\n\\t.text\\n\\t.align\\t2\\n\\t.global\\tmain\\n\\t.type\\tmain, %function\\nmain:\\n.LFB3:\\n\\t.cfi_startproc\\n\\tstp\\tx29, x30, [sp, -16]!\\n\\t.cfi_def_cfa_offset 16\\n\\t.cfi_offset 29, -16\\n\\t.cfi_offset 30, -8\\n\\tmov\\tx29, sp\\n\\tadrp\\tx0, .LC0\\n\\tadd\\tx0, x0, :lo12:.LC0\\n\\tbl\\tlibmin_puts\\n\\tbl\\tlibmin_success\\n\\tmov\\tw0, 0\\n\\tldp\\tx29, x30, [sp], 16\\n\\t.cfi_restore 30\\n\\t.cfi_restore 29\\n\\t.cfi_def_cfa_offset 0\\n\\tret\\n\\t.cfi_endproc\\n.LFE3:\\n\\t.size\\tmain, .-main\\n\\t.ident\\t\"GCC: (GNU) 13.3.0\"\\n\\t.section\\t.note.GNU-stack,\"\",@progbits\\n'})\n"
     ]
    }
   ],
   "source": [
    "test_instance = guess.data_loader.iter().__next__()\n",
    "print(test_instance)\n"
   ]
  },
  {
   "cell_type": "code",
   "execution_count": 3,
   "metadata": {},
   "outputs": [
    {
     "ename": "RuntimeError",
     "evalue": "Attempting to deserialize object on a CUDA device but torch.cuda.is_available() is False. If you are running on a CPU-only machine, please use torch.load with map_location=torch.device('cpu') to map your storages to the CPU.",
     "output_type": "error",
     "traceback": [
      "\u001b[31m---------------------------------------------------------------------------\u001b[39m",
      "\u001b[31mRuntimeError\u001b[39m                              Traceback (most recent call last)",
      "\u001b[36mCell\u001b[39m\u001b[36m \u001b[39m\u001b[32mIn[3]\u001b[39m\u001b[32m, line 6\u001b[39m\n\u001b[32m      4\u001b[39m \u001b[38;5;28;01mif\u001b[39;00m os.path.exists(\u001b[33m\"\u001b[39m\u001b[33mpredictions.pkl\u001b[39m\u001b[33m\"\u001b[39m):\n\u001b[32m      5\u001b[39m     \u001b[38;5;28;01mwith\u001b[39;00m \u001b[38;5;28mopen\u001b[39m(\u001b[33m\"\u001b[39m\u001b[33mpredictions.pkl\u001b[39m\u001b[33m\"\u001b[39m, \u001b[33m\"\u001b[39m\u001b[33mrb\u001b[39m\u001b[33m\"\u001b[39m) \u001b[38;5;28;01mas\u001b[39;00m f:\n\u001b[32m----> \u001b[39m\u001b[32m6\u001b[39m         predictions = \u001b[43mpickle\u001b[49m\u001b[43m.\u001b[49m\u001b[43mload\u001b[49m\u001b[43m(\u001b[49m\u001b[43mf\u001b[49m\u001b[43m)\u001b[49m\n\u001b[32m      7\u001b[39m \u001b[38;5;28;01melse\u001b[39;00m:\n\u001b[32m      8\u001b[39m     predictions = guess.model.predict(test_instance, guess.inference_cfg)\n",
      "\u001b[36mFile \u001b[39m\u001b[32m/opt/homebrew/lib/python3.11/site-packages/torch/storage.py:533\u001b[39m, in \u001b[36m_load_from_bytes\u001b[39m\u001b[34m(b)\u001b[39m\n\u001b[32m    532\u001b[39m \u001b[38;5;28;01mdef\u001b[39;00m \u001b[34m_load_from_bytes\u001b[39m(b):\n\u001b[32m--> \u001b[39m\u001b[32m533\u001b[39m     \u001b[38;5;28;01mreturn\u001b[39;00m \u001b[43mtorch\u001b[49m\u001b[43m.\u001b[49m\u001b[43mload\u001b[49m\u001b[43m(\u001b[49m\u001b[43mio\u001b[49m\u001b[43m.\u001b[49m\u001b[43mBytesIO\u001b[49m\u001b[43m(\u001b[49m\u001b[43mb\u001b[49m\u001b[43m)\u001b[49m\u001b[43m,\u001b[49m\u001b[43m \u001b[49m\u001b[43mweights_only\u001b[49m\u001b[43m=\u001b[49m\u001b[38;5;28;43;01mFalse\u001b[39;49;00m\u001b[43m)\u001b[49m\n",
      "\u001b[36mFile \u001b[39m\u001b[32m/opt/homebrew/lib/python3.11/site-packages/torch/serialization.py:1495\u001b[39m, in \u001b[36mload\u001b[39m\u001b[34m(f, map_location, pickle_module, weights_only, mmap, **pickle_load_args)\u001b[39m\n\u001b[32m   1493\u001b[39m     \u001b[38;5;28;01mexcept\u001b[39;00m pickle.UnpicklingError \u001b[38;5;28;01mas\u001b[39;00m e:\n\u001b[32m   1494\u001b[39m         \u001b[38;5;28;01mraise\u001b[39;00m pickle.UnpicklingError(_get_wo_message(\u001b[38;5;28mstr\u001b[39m(e))) \u001b[38;5;28;01mfrom\u001b[39;00m \u001b[38;5;28;01mNone\u001b[39;00m\n\u001b[32m-> \u001b[39m\u001b[32m1495\u001b[39m \u001b[38;5;28;01mreturn\u001b[39;00m \u001b[43m_legacy_load\u001b[49m\u001b[43m(\u001b[49m\n\u001b[32m   1496\u001b[39m \u001b[43m    \u001b[49m\u001b[43mopened_file\u001b[49m\u001b[43m,\u001b[49m\u001b[43m \u001b[49m\u001b[43mmap_location\u001b[49m\u001b[43m,\u001b[49m\u001b[43m \u001b[49m\u001b[43mpickle_module\u001b[49m\u001b[43m,\u001b[49m\u001b[43m \u001b[49m\u001b[43m*\u001b[49m\u001b[43m*\u001b[49m\u001b[43mpickle_load_args\u001b[49m\n\u001b[32m   1497\u001b[39m \u001b[43m\u001b[49m\u001b[43m)\u001b[49m\n",
      "\u001b[36mFile \u001b[39m\u001b[32m/opt/homebrew/lib/python3.11/site-packages/torch/serialization.py:1754\u001b[39m, in \u001b[36m_legacy_load\u001b[39m\u001b[34m(f, map_location, pickle_module, **pickle_load_args)\u001b[39m\n\u001b[32m   1752\u001b[39m unpickler = UnpicklerWrapper(f, **pickle_load_args)\n\u001b[32m   1753\u001b[39m unpickler.persistent_load = persistent_load\n\u001b[32m-> \u001b[39m\u001b[32m1754\u001b[39m result = \u001b[43munpickler\u001b[49m\u001b[43m.\u001b[49m\u001b[43mload\u001b[49m\u001b[43m(\u001b[49m\u001b[43m)\u001b[49m\n\u001b[32m   1756\u001b[39m deserialized_storage_keys = pickle_module.load(f, **pickle_load_args)\n\u001b[32m   1758\u001b[39m \u001b[38;5;28;01mif\u001b[39;00m torch._guards.active_fake_mode() \u001b[38;5;129;01mis\u001b[39;00m \u001b[38;5;28;01mNone\u001b[39;00m:\n",
      "\u001b[36mFile \u001b[39m\u001b[32m/opt/homebrew/lib/python3.11/site-packages/torch/serialization.py:1682\u001b[39m, in \u001b[36m_legacy_load.<locals>.persistent_load\u001b[39m\u001b[34m(saved_id)\u001b[39m\n\u001b[32m   1680\u001b[39m     obj = cast(Storage, torch.UntypedStorage(nbytes))\n\u001b[32m   1681\u001b[39m     obj._torch_load_uninitialized = \u001b[38;5;28;01mTrue\u001b[39;00m\n\u001b[32m-> \u001b[39m\u001b[32m1682\u001b[39m     obj = \u001b[43mrestore_location\u001b[49m\u001b[43m(\u001b[49m\u001b[43mobj\u001b[49m\u001b[43m,\u001b[49m\u001b[43m \u001b[49m\u001b[43mlocation\u001b[49m\u001b[43m)\u001b[49m\n\u001b[32m   1683\u001b[39m \u001b[38;5;66;03m# TODO: Once we decide to break serialization FC, we can\u001b[39;00m\n\u001b[32m   1684\u001b[39m \u001b[38;5;66;03m# stop wrapping with TypedStorage\u001b[39;00m\n\u001b[32m   1685\u001b[39m typed_storage = torch.storage.TypedStorage(\n\u001b[32m   1686\u001b[39m     wrap_storage=obj, dtype=dtype, _internal=\u001b[38;5;28;01mTrue\u001b[39;00m\n\u001b[32m   1687\u001b[39m )\n",
      "\u001b[36mFile \u001b[39m\u001b[32m/opt/homebrew/lib/python3.11/site-packages/torch/serialization.py:693\u001b[39m, in \u001b[36mdefault_restore_location\u001b[39m\u001b[34m(storage, location)\u001b[39m\n\u001b[32m    673\u001b[39m \u001b[38;5;250m\u001b[39m\u001b[33;03m\"\"\"\u001b[39;00m\n\u001b[32m    674\u001b[39m \u001b[33;03mRestores `storage` using a deserializer function registered for the `location`.\u001b[39;00m\n\u001b[32m    675\u001b[39m \n\u001b[32m   (...)\u001b[39m\u001b[32m    690\u001b[39m \u001b[33;03m       all matching ones return `None`.\u001b[39;00m\n\u001b[32m    691\u001b[39m \u001b[33;03m\"\"\"\u001b[39;00m\n\u001b[32m    692\u001b[39m \u001b[38;5;28;01mfor\u001b[39;00m _, _, fn \u001b[38;5;129;01min\u001b[39;00m _package_registry:\n\u001b[32m--> \u001b[39m\u001b[32m693\u001b[39m     result = \u001b[43mfn\u001b[49m\u001b[43m(\u001b[49m\u001b[43mstorage\u001b[49m\u001b[43m,\u001b[49m\u001b[43m \u001b[49m\u001b[43mlocation\u001b[49m\u001b[43m)\u001b[49m\n\u001b[32m    694\u001b[39m     \u001b[38;5;28;01mif\u001b[39;00m result \u001b[38;5;129;01mis\u001b[39;00m \u001b[38;5;129;01mnot\u001b[39;00m \u001b[38;5;28;01mNone\u001b[39;00m:\n\u001b[32m    695\u001b[39m         \u001b[38;5;28;01mreturn\u001b[39;00m result\n",
      "\u001b[36mFile \u001b[39m\u001b[32m/opt/homebrew/lib/python3.11/site-packages/torch/serialization.py:631\u001b[39m, in \u001b[36m_deserialize\u001b[39m\u001b[34m(backend_name, obj, location)\u001b[39m\n\u001b[32m    629\u001b[39m     backend_name = torch._C._get_privateuse1_backend_name()\n\u001b[32m    630\u001b[39m \u001b[38;5;28;01mif\u001b[39;00m location.startswith(backend_name):\n\u001b[32m--> \u001b[39m\u001b[32m631\u001b[39m     device = \u001b[43m_validate_device\u001b[49m\u001b[43m(\u001b[49m\u001b[43mlocation\u001b[49m\u001b[43m,\u001b[49m\u001b[43m \u001b[49m\u001b[43mbackend_name\u001b[49m\u001b[43m)\u001b[49m\n\u001b[32m    632\u001b[39m     \u001b[38;5;28;01mreturn\u001b[39;00m obj.to(device=device)\n",
      "\u001b[36mFile \u001b[39m\u001b[32m/opt/homebrew/lib/python3.11/site-packages/torch/serialization.py:600\u001b[39m, in \u001b[36m_validate_device\u001b[39m\u001b[34m(location, backend_name)\u001b[39m\n\u001b[32m    598\u001b[39m     device_index = device.index \u001b[38;5;28;01mif\u001b[39;00m device.index \u001b[38;5;28;01melse\u001b[39;00m \u001b[32m0\u001b[39m\n\u001b[32m    599\u001b[39m \u001b[38;5;28;01mif\u001b[39;00m \u001b[38;5;28mhasattr\u001b[39m(device_module, \u001b[33m\"\u001b[39m\u001b[33mis_available\u001b[39m\u001b[33m\"\u001b[39m) \u001b[38;5;129;01mand\u001b[39;00m \u001b[38;5;129;01mnot\u001b[39;00m device_module.is_available():\n\u001b[32m--> \u001b[39m\u001b[32m600\u001b[39m     \u001b[38;5;28;01mraise\u001b[39;00m \u001b[38;5;167;01mRuntimeError\u001b[39;00m(\n\u001b[32m    601\u001b[39m         \u001b[33mf\u001b[39m\u001b[33m\"\u001b[39m\u001b[33mAttempting to deserialize object on a \u001b[39m\u001b[38;5;132;01m{\u001b[39;00mbackend_name.upper()\u001b[38;5;132;01m}\u001b[39;00m\u001b[33m \u001b[39m\u001b[33m\"\u001b[39m\n\u001b[32m    602\u001b[39m         \u001b[33mf\u001b[39m\u001b[33m\"\u001b[39m\u001b[33mdevice but torch.\u001b[39m\u001b[38;5;132;01m{\u001b[39;00mbackend_name\u001b[38;5;132;01m}\u001b[39;00m\u001b[33m.is_available() is False. \u001b[39m\u001b[33m\"\u001b[39m\n\u001b[32m    603\u001b[39m         \u001b[33m\"\u001b[39m\u001b[33mIf you are running on a CPU-only machine, \u001b[39m\u001b[33m\"\u001b[39m\n\u001b[32m    604\u001b[39m         \u001b[33m\"\u001b[39m\u001b[33mplease use torch.load with map_location=torch.device(\u001b[39m\u001b[33m'\u001b[39m\u001b[33mcpu\u001b[39m\u001b[33m'\u001b[39m\u001b[33m) \u001b[39m\u001b[33m\"\u001b[39m\n\u001b[32m    605\u001b[39m         \u001b[33m\"\u001b[39m\u001b[33mto map your storages to the CPU.\u001b[39m\u001b[33m\"\u001b[39m\n\u001b[32m    606\u001b[39m     )\n\u001b[32m    607\u001b[39m \u001b[38;5;28;01mif\u001b[39;00m \u001b[38;5;28mhasattr\u001b[39m(device_module, \u001b[33m\"\u001b[39m\u001b[33mdevice_count\u001b[39m\u001b[33m\"\u001b[39m):\n\u001b[32m    608\u001b[39m     device_count = device_module.device_count()\n",
      "\u001b[31mRuntimeError\u001b[39m: Attempting to deserialize object on a CUDA device but torch.cuda.is_available() is False. If you are running on a CPU-only machine, please use torch.load with map_location=torch.device('cpu') to map your storages to the CPU."
     ]
    }
   ],
   "source": [
    "import pickle\n",
    "import os\n",
    "\n",
    "if os.path.exists(\"predictions.pkl\"):\n",
    "    with open(\"predictions.pkl\", \"rb\") as f:\n",
    "        predictions = pickle.load(f)\n",
    "else:\n",
    "    predictions = guess.model.predict(test_instance, guess.inference_cfg)\n",
    "    with open(\"predictions.pkl\", \"wb\") as f:\n",
    "        pickle.dump(test_pred, f)"
   ]
  },
  {
   "cell_type": "code",
   "execution_count": null,
   "metadata": {},
   "outputs": [],
   "source": [
    "from src.sketch.sketch import Sketch\n",
    "\n",
    "sketch = Sketch(config, guess.model)"
   ]
  },
  {
   "cell_type": "code",
   "execution_count": null,
   "metadata": {},
   "outputs": [],
   "source": [
    "for prediction in predictions:\n",
    "    sections = sketch.extract_sections(prediction.pred)\n",
    "    print(sections)\n"
   ]
  }
 ],
 "metadata": {
  "kernelspec": {
   "display_name": "Python 3",
   "language": "python",
   "name": "python3"
  },
  "language_info": {
   "codemirror_mode": {
    "name": "ipython",
    "version": 3
   },
   "file_extension": ".py",
   "mimetype": "text/x-python",
   "name": "python",
   "nbconvert_exporter": "python",
   "pygments_lexer": "ipython3",
   "version": "3.11.10"
  }
 },
 "nbformat": 4,
 "nbformat_minor": 2
}
